{
 "cells": [
  {
   "cell_type": "markdown",
   "metadata": {},
   "source": [
    "Let's try and make a tip calculator. Let's say you ate out a restaurant and rack up a bill of 14.42. The tax rate for the restaurant is 10% and you want to tip nice so that's an additional 20% on top of that. "
   ]
  },
  {
   "cell_type": "code",
   "execution_count": 7,
   "metadata": {
    "collapsed": true
   },
   "outputs": [],
   "source": [
    "meal = 14.42\n",
    "tax = 10/100.00\n",
    "tip = 20/100.00"
   ]
  },
  {
   "cell_type": "markdown",
   "metadata": {},
   "source": [
    "Here I set the value of the meal to be what the bill was. To get the percentage values of tax and tip I divided them by 100.00. Take note that you have to add the decimal and 0s after the 100 to tell Python to treat the answer as a float value, so it doesn't round to the nearest integers. \n",
    "\n",
    "To calculate the total, we can reset the value of our meal variable by redefining it. This can help because we don't have to define new variables when we don't need to. "
   ]
  },
  {
   "cell_type": "code",
   "execution_count": 11,
   "metadata": {
    "collapsed": false
   },
   "outputs": [
    {
     "name": "stdout",
     "output_type": "stream",
     "text": [
      "meal + tax = 21.112322\n",
      "23.22\n"
     ]
    }
   ],
   "source": [
    "meal = meal+meal*tax\n",
    "print \"meal + tax = %s\" %(meal)\n",
    "total = meal+meal*tax\n",
    "print \"%.2f\" % total"
   ]
  },
  {
   "cell_type": "markdown",
   "metadata": {},
   "source": [
    "To get the total with only 2 decimal points, we use the string formatting (in lesson two). "
   ]
  }
 ],
 "metadata": {
  "kernelspec": {
   "display_name": "Python 2",
   "language": "python",
   "name": "python2"
  },
  "language_info": {
   "codemirror_mode": {
    "name": "ipython",
    "version": 2
   },
   "file_extension": ".py",
   "mimetype": "text/x-python",
   "name": "python",
   "nbconvert_exporter": "python",
   "pygments_lexer": "ipython2",
   "version": "2.7.13"
  }
 },
 "nbformat": 4,
 "nbformat_minor": 2
}
