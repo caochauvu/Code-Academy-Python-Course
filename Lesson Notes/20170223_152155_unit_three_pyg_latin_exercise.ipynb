{
 "cells": [
  {
   "cell_type": "markdown",
   "metadata": {},
   "source": [
    "A practical exercise in writing a pig latin translator in python. Pig latin involves moving the first letter in a word to the end and adding ay. Python --> Ythonpay.\n",
    "\n",
    "First we want to welcome the user to our pig latin translator and ask them for a word they like to translate. For example, \"Tennis\"."
   ]
  },
  {
   "cell_type": "code",
   "execution_count": 15,
   "metadata": {
    "collapsed": false
   },
   "outputs": [
    {
     "name": "stdout",
     "output_type": "stream",
     "text": [
      "Welcome to the Pig Latin Translator!\n",
      "What word would you like to translate? Tennis\n"
     ]
    }
   ],
   "source": [
    "print 'Welcome to the Pig Latin Translator!'\n",
    "\n",
    "original = raw_input(\"What word would you like to translate? \")"
   ]
  },
  {
   "cell_type": "markdown",
   "metadata": {},
   "source": [
    "We want to check if the user actually entered something or if they accidentallly press enter too soon."
   ]
  },
  {
   "cell_type": "code",
   "execution_count": 10,
   "metadata": {
    "collapsed": false
   },
   "outputs": [
    {
     "name": "stdout",
     "output_type": "stream",
     "text": [
      "tennis\n"
     ]
    }
   ],
   "source": [
    "if len(original) > 0: \n",
    "    print original\n",
    "else:\n",
    "    print \"empty\""
   ]
  },
  {
   "cell_type": "markdown",
   "metadata": {},
   "source": [
    "What if the user accidentally put a non letter symbol in their word. We can use the .isalpha string operator. We can see it in action below by using \"Tennis!\" as the new answer."
   ]
  },
  {
   "cell_type": "code",
   "execution_count": 16,
   "metadata": {
    "collapsed": false
   },
   "outputs": [
    {
     "name": "stdout",
     "output_type": "stream",
     "text": [
      "What word would you like to translate? Tennis!\n",
      "empty or includes a non letter characters\n"
     ]
    }
   ],
   "source": [
    "original = raw_input(\"What word would you like to translate? \")\n",
    "\n",
    "if len(original) > 0 and original.isalpha(): \n",
    "    print original\n",
    "else:\n",
    "    print \"empty or includes a non letter characters\""
   ]
  },
  {
   "cell_type": "markdown",
   "metadata": {},
   "source": [
    "Now we know that we have a translateable word, we can start coding the translation itself. We do this by setting a string to the ay suffix. Let's also change our input back to the original while we're at it."
   ]
  },
  {
   "cell_type": "code",
   "execution_count": 19,
   "metadata": {
    "collapsed": false
   },
   "outputs": [
    {
     "name": "stdout",
     "output_type": "stream",
     "text": [
      "What word would you like to translate? Tennis\n"
     ]
    }
   ],
   "source": [
    "pyg = \"ay\"\n",
    "original = raw_input(\"What word would you like to translate? \")"
   ]
  },
  {
   "cell_type": "markdown",
   "metadata": {},
   "source": [
    "We also need all the letters in the word to be lower case, so we don't have a weird out of place upper chase character, We can use the lower string operator here. While we're at it we also want to grab the first letter of the word. Remember index starts at 0."
   ]
  },
  {
   "cell_type": "code",
   "execution_count": 22,
   "metadata": {
    "collapsed": false
   },
   "outputs": [
    {
     "name": "stdout",
     "output_type": "stream",
     "text": [
      "tennis\n",
      "t\n"
     ]
    }
   ],
   "source": [
    "lower_original = original.lower()\n",
    "print lower_original\n",
    "first_letter = lower_original[0]\n",
    "print first_letter"
   ]
  },
  {
   "cell_type": "markdown",
   "metadata": {},
   "source": [
    "To combine the word, we only need to concatenate them."
   ]
  },
  {
   "cell_type": "code",
   "execution_count": 23,
   "metadata": {
    "collapsed": false
   },
   "outputs": [
    {
     "name": "stdout",
     "output_type": "stream",
     "text": [
      "tennistay\n"
     ]
    }
   ],
   "source": [
    "pig_latin_word = lower_original + first_letter + pyg \n",
    "print pig_latin_word"
   ]
  },
  {
   "cell_type": "markdown",
   "metadata": {},
   "source": [
    "We have one last problem, how to get rid of the first letter. We can do this by having a new variable with only the letters following the first one."
   ]
  },
  {
   "cell_type": "code",
   "execution_count": 24,
   "metadata": {
    "collapsed": false
   },
   "outputs": [
    {
     "name": "stdout",
     "output_type": "stream",
     "text": [
      "ennis\n"
     ]
    }
   ],
   "source": [
    "new_original = lower_original [1:len(lower_original)]\n",
    "print new_original"
   ]
  },
  {
   "cell_type": "markdown",
   "metadata": {},
   "source": [
    "We can concatenate it all again."
   ]
  },
  {
   "cell_type": "code",
   "execution_count": 25,
   "metadata": {
    "collapsed": false
   },
   "outputs": [
    {
     "name": "stdout",
     "output_type": "stream",
     "text": [
      "ennistay\n"
     ]
    }
   ],
   "source": [
    "pig_latin_word = new_original + first_letter + pyg\n",
    "print pig_latin_word"
   ]
  },
  {
   "cell_type": "markdown",
   "metadata": {},
   "source": [
    "We can also do it by redefining the variable."
   ]
  },
  {
   "cell_type": "code",
   "execution_count": 26,
   "metadata": {
    "collapsed": false
   },
   "outputs": [
    {
     "name": "stdout",
     "output_type": "stream",
     "text": [
      "ennistay\n"
     ]
    }
   ],
   "source": [
    "pig_latin_word = lower_original + first_letter + pyg \n",
    "pig_latin_word = pig_latin_word[1:len(pig_latin_word)]\n",
    "print pig_latin_word"
   ]
  },
  {
   "cell_type": "markdown",
   "metadata": {},
   "source": [
    "We can bring it all together by combining all the above."
   ]
  },
  {
   "cell_type": "code",
   "execution_count": 27,
   "metadata": {
    "collapsed": false
   },
   "outputs": [
    {
     "name": "stdout",
     "output_type": "stream",
     "text": [
      "Welcome to the Pig Latin Translator!\n",
      "What word would you like to translate? Tennis\n",
      "Tennis\n",
      "ennistay\n"
     ]
    }
   ],
   "source": [
    "print 'Welcome to the Pig Latin Translator!'\n",
    "\n",
    "original = raw_input(\"What word would you like to translate? \")\n",
    "\n",
    "if len(original) > 0 and original.isalpha(): \n",
    "    print original\n",
    "else:\n",
    "    print \"empty or includes a non letter characters\"\n",
    "    \n",
    "pyg = \"ay\"\n",
    "\n",
    "lower_original = original.lower()\n",
    "\n",
    "first_letter = lower_original[0]\n",
    "\n",
    "pig_latin_word = lower_original + first_letter + pyg \n",
    "pig_latin_word = pig_latin_word[1:len(pig_latin_word)]\n",
    "print pig_latin_word"
   ]
  }
 ],
 "metadata": {
  "kernelspec": {
   "display_name": "Python 2",
   "language": "python",
   "name": "python2"
  },
  "language_info": {
   "codemirror_mode": {
    "name": "ipython",
    "version": 2
   },
   "file_extension": ".py",
   "mimetype": "text/x-python",
   "name": "python",
   "nbconvert_exporter": "python",
   "pygments_lexer": "ipython2",
   "version": "2.7.13"
  }
 },
 "nbformat": 4,
 "nbformat_minor": 2
}
