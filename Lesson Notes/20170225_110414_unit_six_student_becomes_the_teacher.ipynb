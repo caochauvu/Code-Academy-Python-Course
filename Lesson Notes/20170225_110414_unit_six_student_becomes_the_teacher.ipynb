{
 "cells": [
  {
   "cell_type": "markdown",
   "metadata": {
    "deletable": true,
    "editable": true
   },
   "source": [
    "# Practice Exercise # \n",
    "\n",
    "## Good Morning Class ##"
   ]
  },
  {
   "cell_type": "markdown",
   "metadata": {
    "deletable": true,
    "editable": true
   },
   "source": [
    "Since grocery store owner didn't work out, we're a teacher now instead. Having students means dealing with grades. "
   ]
  },
  {
   "cell_type": "code",
   "execution_count": 50,
   "metadata": {
    "collapsed": true,
    "deletable": true,
    "editable": true
   },
   "outputs": [],
   "source": [
    "# We have three students for which we need to assign grades to a specific aspect of the class, e.g. homework, quizzes, test, etc. \n",
    "# Dictionaries works best for what we want to do.\n",
    "# We assign empty lists for now because we don't have the grades yet.\n",
    "\n",
    "lloyd = {\n",
    "    \"name\" : \"Lloyd\",\n",
    "    \"homework\" : [],\n",
    "    \"quizzes\" : [],\n",
    "    \"tests\" : [],\n",
    "}\n",
    "\n",
    "alice = {\n",
    "    \"name\" : \"Alice\",\n",
    "    \"homework\" : [],\n",
    "    \"quizzes\" : [],\n",
    "    \"tests\" : [],\n",
    "}\n",
    "\n",
    "tyler = {\n",
    "    \"name\" : \"Tyler\",\n",
    "    \"homework\" : [],\n",
    "    \"quizzes\" : [],\n",
    "    \"tests\" : [],\n",
    "}"
   ]
  },
  {
   "cell_type": "markdown",
   "metadata": {
    "deletable": true,
    "editable": true
   },
   "source": [
    "Alright, we got some scores now, let's add them in."
   ]
  },
  {
   "cell_type": "code",
   "execution_count": 51,
   "metadata": {
    "collapsed": false,
    "deletable": true,
    "editable": true
   },
   "outputs": [
    {
     "name": "stdout",
     "output_type": "stream",
     "text": [
      "{'quizzes': [88.0, 40.0, 94.0], 'tests': [[75.0, 90.0]], 'name': 'Lloyd', 'homework': [90.0, 97.0, 75.0, 92.0]}\n"
     ]
    }
   ],
   "source": [
    "# Scores were already added for Alice and Tyler.\n",
    "\n",
    "alice = {\n",
    "    \"name\": \"Alice\",\n",
    "    \"homework\": [100.0, 92.0, 98.0, 100.0],\n",
    "    \"quizzes\": [82.0, 83.0, 91.0],\n",
    "    \"tests\": [89.0, 97.0]\n",
    "}\n",
    "\n",
    "tyler = {\n",
    "    \"name\": \"Tyler\",\n",
    "    \"homework\": [0.0, 87.0, 75.0, 22.0],\n",
    "    \"quizzes\": [0.0, 75.0, 78.0],\n",
    "    \"tests\": [100.0, 100.0]\n",
    "}\n",
    "\n",
    "# Now let's add them for Lloyd\n",
    "\n",
    "# We can do it by setting the list variable being equal to the grades like so:\n",
    "\n",
    "lloyd[\"homework\"] = [90.0, 97.0, 75.0, 92.0]\n",
    "lloyd[\"quizzes\"] = [88.0, 40.0, 94.0]\n",
    "\n",
    "# Or through the append function, if we already have numbers in there and don't want to replace them.\n",
    "# Since the append function only takes one argument, if we want to append more than one number we'll need to make a list with all the numbers first.\n",
    "lloyd_test_scores = [75.0, 90.0]\n",
    "lloyd[\"tests\"].append(lloyd_test_scores)\n",
    "\n",
    "# Let's check our work.\n",
    "\n",
    "print lloyd"
   ]
  },
  {
   "cell_type": "markdown",
   "metadata": {
    "deletable": true,
    "editable": true
   },
   "source": [
    "We want to print out all our student's grade to distribute and maybe archive them."
   ]
  },
  {
   "cell_type": "code",
   "execution_count": 52,
   "metadata": {
    "collapsed": false,
    "deletable": true,
    "editable": true
   },
   "outputs": [
    {
     "name": "stdout",
     "output_type": "stream",
     "text": [
      "[{'quizzes': [88.0, 40.0, 94.0], 'tests': [[75.0, 90.0]], 'name': 'Lloyd', 'homework': [90.0, 97.0, 75.0, 92.0]}, {'quizzes': [82.0, 83.0, 91.0], 'tests': [89.0, 97.0], 'name': 'Alice', 'homework': [100.0, 92.0, 98.0, 100.0]}, {'quizzes': [0.0, 75.0, 78.0], 'tests': [100.0, 100.0], 'name': 'Tyler', 'homework': [0.0, 87.0, 75.0, 22.0]}]\n",
      "\n",
      "Lloyd\n",
      "[90.0, 97.0, 75.0, 92.0]\n",
      "[88.0, 40.0, 94.0]\n",
      "[[75.0, 90.0]]\n",
      "\n",
      "Alice\n",
      "[100.0, 92.0, 98.0, 100.0]\n",
      "[82.0, 83.0, 91.0]\n",
      "[89.0, 97.0]\n",
      "\n",
      "Tyler\n",
      "[0.0, 87.0, 75.0, 22.0]\n",
      "[0.0, 75.0, 78.0]\n",
      "[100.0, 100.0]\n",
      "\n"
     ]
    }
   ],
   "source": [
    "# First we need to put them all in a list.\n",
    "\n",
    "my_students = [lloyd, alice, tyler]\n",
    "print my_students\n",
    "print \"\"\n",
    "\n",
    "# To print them we'll need to use a for loop.\n",
    "\n",
    "for student in my_students:\n",
    "    print student[\"name\"]\n",
    "    print student[\"homework\"]\n",
    "    print student[\"quizzes\"]\n",
    "    print student[\"tests\"]\n",
    "    print \"\"\n"
   ]
  },
  {
   "cell_type": "markdown",
   "metadata": {
    "deletable": true,
    "editable": true
   },
   "source": [
    "## Just Average ##\n",
    "\n",
    "Averages are one of the ways we can judge our students, let's go ahead and calculate them. A reminder here that in python an integer divided by an integer will result in an integer (rounded down). So if we're ever worried we're working with integers in a division, we can use the float() to convert them."
   ]
  },
  {
   "cell_type": "code",
   "execution_count": 53,
   "metadata": {
    "collapsed": false,
    "deletable": true,
    "editable": true
   },
   "outputs": [
    {
     "data": {
      "text/plain": [
       "88.5"
      ]
     },
     "execution_count": 53,
     "metadata": {},
     "output_type": "execute_result"
    }
   ],
   "source": [
    "def average(numbers): \n",
    "    total = sum(numbers)\n",
    "    # Our dictionaries only have float numbers, but we float them anyways just in case.\n",
    "    # We float the denominator because length always returns an integer.\n",
    "    return float(total) / float(len(numbers))\n",
    "\n",
    "average(lloyd[\"homework\"])"
   ]
  },
  {
   "cell_type": "markdown",
   "metadata": {
    "deletable": true,
    "editable": true
   },
   "source": [
    "Just the average isn't enough, some aspects of classes are worth more than others. E.g. tests are worth more than quizzes which are worth more than HW. "
   ]
  },
  {
   "cell_type": "code",
   "execution_count": 54,
   "metadata": {
    "collapsed": false,
    "deletable": true,
    "editable": true
   },
   "outputs": [],
   "source": [
    "def get_average(student):\n",
    "    homework = average(student[\"homework\"])\n",
    "    quizzes = average(student[\"quizzes\"])\n",
    "    tests = average(student[\"tests\"])\n",
    "    # Usually we use \\ to escape characters, but here it can be used to signify that the next line is a continuation of the current line. \n",
    "    # We use the \\ here just to line up the additions to make it look nice.\n",
    "    weighted_average = homework * .1 + \\\n",
    "                       quizzes  * .3 + \\\n",
    "                       tests    * .6\n",
    "    return weighted_average\n",
    "\n",
    "# Line below is commented out because it would result in an error.\n",
    "#print get_average(lloyd)"
   ]
  },
  {
   "cell_type": "markdown",
   "metadata": {
    "deletable": true,
    "editable": true
   },
   "source": [
    "What went wrong here is that way back when we were putting in grades for Lloyd, we appended a list into our list. In fact if you pay close attention to when we print out all the students grade Lloyd tests ones was in a list of a list, though the double brackets are hard to notice without closer inspection. So what we need to do now is convert our original code to turn the numbers into a list. Let's take a look at the original codes. "
   ]
  },
  {
   "cell_type": "code",
   "execution_count": 55,
   "metadata": {
    "collapsed": false,
    "deletable": true,
    "editable": true
   },
   "outputs": [
    {
     "name": "stdout",
     "output_type": "stream",
     "text": [
      "{'quizzes': [88.0, 40.0, 94.0], 'tests': [[75.0, 90.0]], 'name': 'Lloyd', 'homework': [90.0, 97.0, 75.0, 92.0]}\n"
     ]
    }
   ],
   "source": [
    "# Here's the original dictionary.\n",
    "lloyd = {\n",
    "    \"name\" : \"Lloyd\",\n",
    "    \"homework\" : [],\n",
    "    \"quizzes\" : [],\n",
    "    \"tests\" : [],\n",
    "}\n",
    "\n",
    "# We'll reset the values of two of our keys like so.\n",
    "lloyd[\"homework\"] = [90.0, 97.0, 75.0, 92.0]\n",
    "lloyd[\"quizzes\"] = [88.0, 40.0, 94.0]\n",
    "\n",
    "# Here's our original wrong code for reference.\n",
    "lloyd_test_scores = [75.0, 90.0]\n",
    "lloyd[\"tests\"].append(lloyd_test_scores)\n",
    "\n",
    "# Let's check our work.\n",
    "print lloyd"
   ]
  },
  {
   "cell_type": "markdown",
   "metadata": {
    "deletable": true,
    "editable": true
   },
   "source": [
    "Notice how our tests key has a list inside a list, that's where our error came from. To fix that we need to instead use a for loop to append the list in."
   ]
  },
  {
   "cell_type": "code",
   "execution_count": 56,
   "metadata": {
    "collapsed": false,
    "deletable": true,
    "editable": true
   },
   "outputs": [
    {
     "name": "stdout",
     "output_type": "stream",
     "text": [
      "[]\n",
      "{'quizzes': [88.0, 40.0, 94.0], 'tests': [75.0, 90.0], 'name': 'Lloyd', 'homework': [90.0, 97.0, 75.0, 92.0]}\n",
      "80.55\n"
     ]
    }
   ],
   "source": [
    "# First we reset Lloyd's tests score, so we can append without overlapping.\n",
    "lloyd[\"tests\"] = []\n",
    "# We print to check.\n",
    "print lloyd[\"tests\"]\n",
    "\n",
    "# Now we use a for loop to input each of the value in our test score list into lloyd specific one.\n",
    "for score in lloyd_test_scores:\n",
    "    lloyd[\"tests\"].append(score)\n",
    "\n",
    "# Now we print to check\n",
    "print lloyd\n",
    "\n",
    "# While we're at it let's get Lloyd's weighted average grade.\n",
    "print get_average(lloyd)"
   ]
  },
  {
   "cell_type": "markdown",
   "metadata": {
    "deletable": true,
    "editable": true
   },
   "source": [
    "Notice that our test keys now has a list of floats instead of a list of list. An important distinction."
   ]
  },
  {
   "cell_type": "markdown",
   "metadata": {
    "deletable": true,
    "editable": true
   },
   "source": [
    "Now that we have a weighted average, we can assign them a letter grade. The grade to letter conversion is below.\n",
    "\n",
    "| Grade | Letter |\n",
    "|:-----:|:------:|\n",
    "|   90  |    A   |\n",
    "|   80  |    B   |\n",
    "|   70  |    C   |\n",
    "|   60  |    D   |\n",
    "|  <60  |    F   |\n",
    "\n",
    "We can use if here to give a letter grade base on what their weighted averages were. Let's find out what Lloyd's grade is."
   ]
  },
  {
   "cell_type": "code",
   "execution_count": 57,
   "metadata": {
    "collapsed": false,
    "deletable": true,
    "editable": true
   },
   "outputs": [
    {
     "name": "stdout",
     "output_type": "stream",
     "text": [
      "B\n"
     ]
    }
   ],
   "source": [
    "def get_letter_grade(grade):\n",
    "    if grade >= 90:\n",
    "        return 'A'\n",
    "    elif grade >= 80:\n",
    "        return 'B'\n",
    "    elif grade >= 70:\n",
    "        return 'C'\n",
    "    elif grade >= 60:\n",
    "        return 'D'\n",
    "    else:\n",
    "        return 'F'\n",
    "\n",
    "print get_letter_grade(get_average(lloyd))"
   ]
  },
  {
   "cell_type": "markdown",
   "metadata": {
    "deletable": true,
    "editable": true
   },
   "source": [
    "Lloyd seems to be doing alright. He's only one student though. To see how our class is doing as a whole, we would need to get the class average. We can do this again with a for loop. Then we can both get the class average grade and its letter equivalent."
   ]
  },
  {
   "cell_type": "code",
   "execution_count": 59,
   "metadata": {
    "collapsed": false,
    "deletable": true,
    "editable": true
   },
   "outputs": [
    {
     "name": "stdout",
     "output_type": "stream",
     "text": [
      "[{'quizzes': [88.0, 40.0, 94.0], 'tests': [75.0, 90.0], 'name': 'Lloyd', 'homework': [90.0, 97.0, 75.0, 92.0]}, {'quizzes': [82.0, 83.0, 91.0], 'tests': [89.0, 97.0], 'name': 'Alice', 'homework': [100.0, 92.0, 98.0, 100.0]}, {'quizzes': [0.0, 75.0, 78.0], 'tests': [100.0, 100.0], 'name': 'Tyler', 'homework': [0.0, 87.0, 75.0, 22.0]}]\n",
      "\n",
      "[{'quizzes': [88.0, 40.0, 94.0], 'tests': [75.0, 90.0], 'name': 'Lloyd', 'homework': [90.0, 97.0, 75.0, 92.0]}, {'quizzes': [82.0, 83.0, 91.0], 'tests': [89.0, 97.0], 'name': 'Alice', 'homework': [100.0, 92.0, 98.0, 100.0]}, {'quizzes': [0.0, 75.0, 78.0], 'tests': [100.0, 100.0], 'name': 'Tyler', 'homework': [0.0, 87.0, 75.0, 22.0]}]\n",
      "\n",
      "83.8666666667\n",
      "B\n"
     ]
    }
   ],
   "source": [
    "def get_class_average(students):\n",
    "    # We want a list of results of the weighted average of the class. First, we need to make an empty list.\n",
    "    results = []\n",
    "    # We need to get it for the entire class so we want to include each student in our list in our calculations.\n",
    "    for student in students:\n",
    "        results.append(get_average(student))\n",
    "    return average(results)\n",
    "\n",
    "# If we just get the average though we'll still get an error. It's because our my_students list still has the old lloyd dictionary.\n",
    "# Check the Lloyd dictionary by printing out our my_students variable. Look at how the test key for Lloyd still has the list inside a list instead of a list of numbers.\n",
    "\n",
    "print my_students\n",
    "print \"\"\n",
    "\n",
    "# So we just need to reset our variable to use the new dictionary instead.\n",
    "\n",
    "my_students = [lloyd, alice, tyler]\n",
    "\n",
    "# Print to check that we fixed it.\n",
    "\n",
    "print my_students\n",
    "print \"\"\n",
    "\n",
    "# Looks good, now we can grab the class average.\n",
    "\n",
    "print get_class_average(my_students)\n",
    "print get_letter_grade(get_class_average(my_students))"
   ]
  },
  {
   "cell_type": "markdown",
   "metadata": {
    "deletable": true,
    "editable": true
   },
   "source": [
    "We're not doing bad, but there's always room for improvement, let's aim for a class average of A next time!"
   ]
  }
 ],
 "metadata": {
  "kernelspec": {
   "display_name": "Python 2",
   "language": "python",
   "name": "python2"
  },
  "language_info": {
   "codemirror_mode": {
    "name": "ipython",
    "version": 2
   },
   "file_extension": ".py",
   "mimetype": "text/x-python",
   "name": "python",
   "nbconvert_exporter": "python",
   "pygments_lexer": "ipython2",
   "version": "2.7.13"
  }
 },
 "nbformat": 4,
 "nbformat_minor": 2
}
