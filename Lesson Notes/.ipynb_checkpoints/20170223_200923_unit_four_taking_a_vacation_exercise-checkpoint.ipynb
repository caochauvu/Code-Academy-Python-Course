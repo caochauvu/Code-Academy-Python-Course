{
 "cells": [
  {
   "cell_type": "markdown",
   "metadata": {},
   "source": [
    "# Notes #\n",
    "\n",
    "Say we want to go on a vacation. We're going to need to figure out the cost of our hotel stay."
   ]
  },
  {
   "cell_type": "code",
   "execution_count": 9,
   "metadata": {
    "collapsed": false
   },
   "outputs": [
    {
     "data": {
      "text/plain": [
       "1400"
      ]
     },
     "execution_count": 9,
     "metadata": {},
     "output_type": "execute_result"
    }
   ],
   "source": [
    "def hotel_cost(number_of_nights):\n",
    "    return 140*number_of_nights\n",
    "    \n",
    "hotel_cost(10)"
   ]
  },
  {
   "cell_type": "markdown",
   "metadata": {},
   "source": [
    "Now we need to figure out the cost of the airplane tickets. We do this by asking for a city input and then returning a price for round trip airplane tickets."
   ]
  },
  {
   "cell_type": "code",
   "execution_count": 16,
   "metadata": {
    "collapsed": true
   },
   "outputs": [],
   "source": [
    "def plane_ride_cost(city):\n",
    "    if city == \"Charlotte\":\n",
    "        return 183\n",
    "    elif city == \"Tampa\":\n",
    "        return 220\n",
    "    elif city == \"Pittsburgh\":\n",
    "        return 222\n",
    "    elif city == \"Los Angeles\":\n",
    "        return 475"
   ]
  },
  {
   "cell_type": "markdown",
   "metadata": {},
   "source": [
    "We also need to rent a car to get around. With some agencies, the longer you rent a car the bigger the discount you get on it. With the agency we're using, you'll get a discount of $50 if you were to rent the car for 7 days or more. However if you only rent the car for 3-7 days, you'll only get a $20 discount. Remember elif statements are only processed if the if statement fails. Take note that we have to include an else statement, otherwise the function won't return any output besides \"none\" for any days input less than 3."
   ]
  },
  {
   "cell_type": "code",
   "execution_count": 15,
   "metadata": {
    "collapsed": false
   },
   "outputs": [
    {
     "name": "stdout",
     "output_type": "stream",
     "text": [
      "350\n",
      "180\n",
      "40\n"
     ]
    }
   ],
   "source": [
    "def rental_car_cost(days):\n",
    "    cost = 40*days\n",
    "    if days >= 7:\n",
    "        return cost-50\n",
    "    elif days >= 3: \n",
    "        return cost-20\n",
    "    else:\n",
    "        return cost\n",
    "    \n",
    "print rental_car_cost(10)\n",
    "print rental_car_cost (5)\n",
    "print rental_car_cost(1)"
   ]
  },
  {
   "cell_type": "markdown",
   "metadata": {},
   "source": [
    "Let's bring it all together by combining them under one single function. Notice how we input in the city as a string because the function itself tries to match up the input with strings conditions."
   ]
  },
  {
   "cell_type": "code",
   "execution_count": 18,
   "metadata": {
    "collapsed": false
   },
   "outputs": [
    {
     "name": "stdout",
     "output_type": "stream",
     "text": [
      "2225\n"
     ]
    }
   ],
   "source": [
    "def total_trip_cost(days, city):\n",
    "    return rental_car_cost(days) + hotel_cost(days) + plane_ride_cost(city)\n",
    "\n",
    "print total_trip_cost(10, \"Los Angeles\")"
   ]
  },
  {
   "cell_type": "markdown",
   "metadata": {},
   "source": [
    "What if we needed some extra spending money though (e.g. food, souvenirs). We do that by adding a spending money argument."
   ]
  },
  {
   "cell_type": "code",
   "execution_count": 26,
   "metadata": {
    "collapsed": false
   },
   "outputs": [
    {
     "name": "stdout",
     "output_type": "stream",
     "text": [
      "2725\n"
     ]
    }
   ],
   "source": [
    "def total_trip_cost(days, city, spending_money):\n",
    "    total_cost = rental_car_cost(days) + hotel_cost(days) + plane_ride_cost(city) + spending_money\n",
    "    return total_cost\n",
    "    dollar_cost = \"$\" + str(total_cost)\n",
    "    print dollar_cost\n",
    "\n",
    "print total_trip_cost(10, \"Los Angeles\", 500)"
   ]
  },
  {
   "cell_type": "markdown",
   "metadata": {},
   "source": [
    "# Combined Code #\n",
    "\n",
    "Here we combined all the previous code, I made a new function to concatenate the string \"$\" with the total_trip_cost function in order to display it nicely in American dollars format."
   ]
  },
  {
   "cell_type": "code",
   "execution_count": 36,
   "metadata": {
    "collapsed": false
   },
   "outputs": [
    {
     "name": "stdout",
     "output_type": "stream",
     "text": [
      "$2725\n"
     ]
    }
   ],
   "source": [
    "def hotel_cost(number_of_nights):\n",
    "    return 140*number_of_nights\n",
    "    print \"$\" + hotel_cost\n",
    "    \n",
    "def plane_ride_cost(city):\n",
    "    if city == \"Charlotte\":\n",
    "        return 183\n",
    "    elif city == \"Tampa\":\n",
    "        return 220\n",
    "    elif city == \"Pittsburgh\":\n",
    "        return 222\n",
    "    elif city == \"Los Angeles\":\n",
    "        return 475\n",
    "        \n",
    "def rental_car_cost(days):\n",
    "    cost = 40*days\n",
    "    if days >= 7:\n",
    "        return cost-50\n",
    "    elif days >= 3: \n",
    "        return cost-20\n",
    "    else:\n",
    "        return cost\n",
    "    \n",
    "def total_trip_cost(days, city, spending_money):\n",
    "    return rental_car_cost(days) + hotel_cost(days) + plane_ride_cost(city) + spending_money\n",
    "\n",
    "def total_trip_cost_dollar(days, city, spending_money):\n",
    "    print \"$\" + str(total_trip_cost(days, city, spending_money))\n",
    "\n",
    "total_trip_cost_dollar(10, \"Los Angeles\", 500)"
   ]
  }
 ],
 "metadata": {
  "kernelspec": {
   "display_name": "Python 2",
   "language": "python",
   "name": "python2"
  },
  "language_info": {
   "codemirror_mode": {
    "name": "ipython",
    "version": 2
   },
   "file_extension": ".py",
   "mimetype": "text/x-python",
   "name": "python",
   "nbconvert_exporter": "python",
   "pygments_lexer": "ipython2",
   "version": "2.7.13"
  }
 },
 "nbformat": 4,
 "nbformat_minor": 2
}
