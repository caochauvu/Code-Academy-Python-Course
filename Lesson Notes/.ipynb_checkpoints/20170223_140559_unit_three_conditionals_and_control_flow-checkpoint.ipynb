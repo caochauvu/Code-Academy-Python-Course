{
 "cells": [
  {
   "cell_type": "markdown",
   "metadata": {
    "deletable": true,
    "editable": true
   },
   "source": [
    "When we want our programs to give different outcomes based on what choices were given, we need to use **conditionals and control flows**. \n",
    "\n",
    "The simplest type of control flows is **comparators** used to definie number relationships. Take notice that when we want to say that something is equal to another, we use == instead of the = we use to assign a value to a variable."
   ]
  },
  {
   "cell_type": "code",
   "execution_count": 33,
   "metadata": {
    "collapsed": false,
    "deletable": true,
    "editable": true
   },
   "outputs": [
    {
     "data": {
      "text/plain": [
       "True"
      ]
     },
     "execution_count": 33,
     "metadata": {},
     "output_type": "execute_result"
    }
   ],
   "source": [
    "2 == 2\n",
    "1 < 2\n",
    "2 <= 2\n",
    "3 > 2\n",
    "2 >= 2\n",
    "\n",
    "#!= signifies not equal to.\n",
    "3 != 2"
   ]
  },
  {
   "cell_type": "markdown",
   "metadata": {
    "deletable": true,
    "editable": true
   },
   "source": [
    "All the aboves are correct, so when we input them it gives us a true. What if we made a mistake?"
   ]
  },
  {
   "cell_type": "code",
   "execution_count": 34,
   "metadata": {
    "collapsed": false,
    "deletable": true,
    "editable": true
   },
   "outputs": [
    {
     "data": {
      "text/plain": [
       "False"
      ]
     },
     "execution_count": 34,
     "metadata": {},
     "output_type": "execute_result"
    }
   ],
   "source": [
    "2<=1"
   ]
  },
  {
   "cell_type": "markdown",
   "metadata": {
    "deletable": true,
    "editable": true
   },
   "source": [
    "Here it tells us that the above math is false or incorrect. \n",
    "\n",
    "We can do this with mathematical operations too."
   ]
  },
  {
   "cell_type": "code",
   "execution_count": 35,
   "metadata": {
    "collapsed": false,
    "deletable": true,
    "editable": true
   },
   "outputs": [
    {
     "data": {
      "text/plain": [
       "True"
      ]
     },
     "execution_count": 35,
     "metadata": {},
     "output_type": "execute_result"
    }
   ],
   "source": [
    "20-15 > 10\n",
    "10+17 < 3**16\n",
    "100 ==10**2"
   ]
  },
  {
   "cell_type": "markdown",
   "metadata": {
    "deletable": true,
    "editable": true
   },
   "source": [
    "We can use **boolean operators** to compare statements and their results.\n",
    "\n",
    "  - **and** will check if both statements are true, if they aren't then you will get a false.\n",
    "  - **or** will only check if either statement is true, so unless they are both false you will get a true.\n",
    "  - **not** will give the opposite of the statement."
   ]
  },
  {
   "cell_type": "code",
   "execution_count": 36,
   "metadata": {
    "collapsed": false,
    "deletable": true,
    "editable": true
   },
   "outputs": [
    {
     "data": {
      "text/plain": [
       "True"
      ]
     },
     "execution_count": 36,
     "metadata": {},
     "output_type": "execute_result"
    }
   ],
   "source": [
    "2 == 2 and 1 == 1"
   ]
  },
  {
   "cell_type": "code",
   "execution_count": 37,
   "metadata": {
    "collapsed": false,
    "deletable": true,
    "editable": true
   },
   "outputs": [
    {
     "data": {
      "text/plain": [
       "False"
      ]
     },
     "execution_count": 37,
     "metadata": {},
     "output_type": "execute_result"
    }
   ],
   "source": [
    "2 == 1 and 1 == 3"
   ]
  },
  {
   "cell_type": "code",
   "execution_count": 38,
   "metadata": {
    "collapsed": false,
    "deletable": true,
    "editable": true
   },
   "outputs": [
    {
     "data": {
      "text/plain": [
       "True"
      ]
     },
     "execution_count": 38,
     "metadata": {},
     "output_type": "execute_result"
    }
   ],
   "source": [
    "2 == 1 or 2 == 2"
   ]
  },
  {
   "cell_type": "code",
   "execution_count": 39,
   "metadata": {
    "collapsed": false,
    "deletable": true,
    "editable": true
   },
   "outputs": [
    {
     "data": {
      "text/plain": [
       "False"
      ]
     },
     "execution_count": 39,
     "metadata": {},
     "output_type": "execute_result"
    }
   ],
   "source": [
    "2 ==1 or 2 == 3"
   ]
  },
  {
   "cell_type": "code",
   "execution_count": 40,
   "metadata": {
    "collapsed": false,
    "deletable": true,
    "editable": true
   },
   "outputs": [
    {
     "data": {
      "text/plain": [
       "False"
      ]
     },
     "execution_count": 40,
     "metadata": {},
     "output_type": "execute_result"
    }
   ],
   "source": [
    "not 2 == 2 "
   ]
  },
  {
   "cell_type": "code",
   "execution_count": 41,
   "metadata": {
    "collapsed": false,
    "deletable": true,
    "editable": true
   },
   "outputs": [
    {
     "data": {
      "text/plain": [
       "True"
      ]
     },
     "execution_count": 41,
     "metadata": {},
     "output_type": "execute_result"
    }
   ],
   "source": [
    "not 3 == 2"
   ]
  },
  {
   "cell_type": "markdown",
   "metadata": {
    "deletable": true,
    "editable": true
   },
   "source": [
    "Booleans have their own order of operations, and are not evaluated just left to right.\n",
    "\n",
    "  1. inside parantheses.\n",
    "  2. not\n",
    "  3. and\n",
    "  4. or\n",
    "  \n",
    "You can find some example in use below."
   ]
  },
  {
   "cell_type": "code",
   "execution_count": 42,
   "metadata": {
    "collapsed": false,
    "deletable": true,
    "editable": true
   },
   "outputs": [
    {
     "data": {
      "text/plain": [
       "False"
      ]
     },
     "execution_count": 42,
     "metadata": {},
     "output_type": "execute_result"
    }
   ],
   "source": [
    "#False or not True and True --> false or false and false --> false or false --> false\n",
    "2 == 3 or not 2 == 2 and 1 == 1"
   ]
  },
  {
   "cell_type": "code",
   "execution_count": 43,
   "metadata": {
    "collapsed": false,
    "deletable": true,
    "editable": true
   },
   "outputs": [
    {
     "data": {
      "text/plain": [
       "True"
      ]
     },
     "execution_count": 43,
     "metadata": {},
     "output_type": "execute_result"
    }
   ],
   "source": [
    "#False or not True or True --> False or False or True --> False or True --> True\n",
    "2 == 3 and not  2 == 2 or 2 == 2"
   ]
  },
  {
   "cell_type": "code",
   "execution_count": 44,
   "metadata": {
    "collapsed": false,
    "deletable": true,
    "editable": true
   },
   "outputs": [
    {
     "data": {
      "text/plain": [
       "True"
      ]
     },
     "execution_count": 44,
     "metadata": {},
     "output_type": "execute_result"
    }
   ],
   "source": [
    "#True and not (False or False) --> True and not (False) --> True and True --> True\n",
    "2 == 2 and not (1==2 or 1==3)"
   ]
  },
  {
   "cell_type": "code",
   "execution_count": 45,
   "metadata": {
    "collapsed": false,
    "deletable": true,
    "editable": true
   },
   "outputs": [
    {
     "data": {
      "text/plain": [
       "True"
      ]
     },
     "execution_count": 45,
     "metadata": {},
     "output_type": "execute_result"
    }
   ],
   "source": [
    "#not not True or False and not True --> not False or False and False ==> True or False and False --> True or False --> True\n",
    "not not 2 == 2 or 2 == 3 and not 2 == 2"
   ]
  },
  {
   "cell_type": "code",
   "execution_count": 46,
   "metadata": {
    "collapsed": false,
    "deletable": true,
    "editable": true
   },
   "outputs": [
    {
     "data": {
      "text/plain": [
       "False"
      ]
     },
     "execution_count": 46,
     "metadata": {},
     "output_type": "execute_result"
    }
   ],
   "source": [
    "#False or not (True and True) --> False or not (True) --> False or False --> False\n",
    "2 == 3 or not (1 == 1 and 2 == 2)"
   ]
  },
  {
   "cell_type": "markdown",
   "metadata": {
    "deletable": true,
    "editable": true
   },
   "source": [
    "We can use **conditional statements** to execute certain code if the expression is true. We have an example of the **if** statement below. Pay special attention the use of the colon (:) to tell python that we're making an if statement."
   ]
  },
  {
   "cell_type": "code",
   "execution_count": 47,
   "metadata": {
    "collapsed": false,
    "deletable": true,
    "editable": true
   },
   "outputs": [
    {
     "name": "stdout",
     "output_type": "stream",
     "text": [
      "a is less than b\n"
     ]
    }
   ],
   "source": [
    "a = 2\n",
    "b = 3\n",
    "\n",
    "if a < b : \n",
    "    print \"a is less than b\""
   ]
  },
  {
   "cell_type": "markdown",
   "metadata": {
    "deletable": true,
    "editable": true
   },
   "source": [
    "What if b was larger than a, then we need to use **else** statements. Here we define a function variable_relationship that will tell us which variable has the larger value, again pay attention to the use of :. "
   ]
  },
  {
   "cell_type": "code",
   "execution_count": 48,
   "metadata": {
    "collapsed": false,
    "deletable": true,
    "editable": true
   },
   "outputs": [
    {
     "name": "stdout",
     "output_type": "stream",
     "text": [
      "a is more than b\n",
      "a is less than b\n"
     ]
    }
   ],
   "source": [
    "def variable_relationship(a, b):\n",
    "    if a < b :\n",
    "         print \"a is less than b\"\n",
    "    else:\n",
    "         print \"a is more than b\"\n",
    "        \n",
    "variable_relationship(3, 2)\n",
    "variable_relationship(2, 3)"
   ]
  },
  {
   "cell_type": "markdown",
   "metadata": {
    "deletable": true,
    "editable": true
   },
   "source": [
    "Else only demandds that the if statement is false, it doesn't make any strict demands like if does. However, we run into a problem with our function above, what if variable a and b had the same problem? We can then use **elif** statement. This statement gives us the ability to add another if statement, giving an alternative condition that can be fulfilled. Elif statements are only checked if the if statement fails."
   ]
  },
  {
   "cell_type": "code",
   "execution_count": 51,
   "metadata": {
    "collapsed": false,
    "deletable": true,
    "editable": true
   },
   "outputs": [
    {
     "name": "stdout",
     "output_type": "stream",
     "text": [
      "a is more than b\n",
      "a is less than b\n",
      "a is equal to b\n"
     ]
    }
   ],
   "source": [
    "def variable_relationship(a, b):\n",
    "    if a < b :\n",
    "         print \"a is less than b\"\n",
    "    elif a > b:\n",
    "         print \"a is more than b\"\n",
    "    else: \n",
    "        print \"a is equal to b\"\n",
    "            \n",
    "variable_relationship(3, 2)\n",
    "variable_relationship(2, 3)\n",
    "variable_relationship(3,3)"
   ]
  },
  {
   "cell_type": "markdown",
   "metadata": {
    "deletable": true,
    "editable": true
   },
   "source": [
    "Say we wanted to use our output in another function we would use return like below, this keeps the output and allows it to be passed to other functions."
   ]
  },
  {
   "cell_type": "code",
   "execution_count": 1,
   "metadata": {
    "collapsed": false,
    "deletable": true,
    "editable": true
   },
   "outputs": [
    {
     "name": "stdout",
     "output_type": "stream",
     "text": [
      "Who are you guys? Monty Python\n",
      "True\n",
      "We've been expecting you!\n"
     ]
    }
   ],
   "source": [
    "answer = raw_input(\"Who are you guys? \")\n",
    "\n",
    "def the_flying_circus():\n",
    "    if answer == \"Monty Python\" or answer == \"British comedy group\":\n",
    "        return True \n",
    "    elif answer == \"The Holy Grail\":             \n",
    "        return False\n",
    "    else:\n",
    "        return False\n",
    "    \n",
    "print the_flying_circus()\n",
    "\n",
    "if the_flying_circus() == True:\n",
    "    print \"We've been expecting you!\""
   ]
  },
  {
   "cell_type": "markdown",
   "metadata": {
    "deletable": true,
    "editable": true
   },
   "source": [
    "This is handy when we want to have the output from one function be use in multiple other functions."
   ]
  }
 ],
 "metadata": {
  "kernelspec": {
   "display_name": "Python 2",
   "language": "python",
   "name": "python2"
  },
  "language_info": {
   "codemirror_mode": {
    "name": "ipython",
    "version": 2
   },
   "file_extension": ".py",
   "mimetype": "text/x-python",
   "name": "python",
   "nbconvert_exporter": "python",
   "pygments_lexer": "ipython2",
   "version": "2.7.13"
  }
 },
 "nbformat": 4,
 "nbformat_minor": 2
}
