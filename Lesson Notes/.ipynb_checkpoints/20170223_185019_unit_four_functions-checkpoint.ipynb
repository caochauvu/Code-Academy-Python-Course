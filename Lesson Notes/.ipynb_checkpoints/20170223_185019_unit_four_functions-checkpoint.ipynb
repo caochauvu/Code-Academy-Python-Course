{
 "cells": [
  {
   "cell_type": "markdown",
   "metadata": {},
   "source": [
    "# Notes#\n",
    "\n",
    "**Functions** are used so that you can reuse them without having to rewrite the code each time. We have one such function below."
   ]
  },
  {
   "cell_type": "code",
   "execution_count": 4,
   "metadata": {
    "collapsed": false
   },
   "outputs": [
    {
     "name": "stdout",
     "output_type": "stream",
     "text": [
      "Eggs!\n"
     ]
    }
   ],
   "source": [
    "def spam():\n",
    "    #print eggs when you input spam.\n",
    "    print \"Eggs!\"\n",
    "\n",
    "spam()"
   ]
  },
  {
   "cell_type": "markdown",
   "metadata": {},
   "source": [
    "We can include mathematical operators and **input** or **arguments** in our functions. The input below is *base* and *exponent*. Notice that we use %d for numbers instead of the %s we use for strings."
   ]
  },
  {
   "cell_type": "code",
   "execution_count": 18,
   "metadata": {
    "collapsed": false
   },
   "outputs": [
    {
     "name": "stdout",
     "output_type": "stream",
     "text": [
      "2 to the power of 4 is 16\n"
     ]
    }
   ],
   "source": [
    "def power(base, exponent):\n",
    "    result = base**exponent\n",
    "    print \"%d to the power of %d is %d\" % (base, exponent, result)\n",
    "    \n",
    "power(2,4)"
   ]
  },
  {
   "cell_type": "markdown",
   "metadata": {},
   "source": [
    "Here we can reuse this function in another function. This time we'll find a function that takes the output for our power function and convert it to decimal form of percentages. \n",
    "\n",
    "To do this we have to change our function to return an integer instead of a string. We do this by having it return only the result.\n",
    "\n",
    "Then we have the new function call the old function by putting it in the body of the function."
   ]
  },
  {
   "cell_type": "code",
   "execution_count": 20,
   "metadata": {
    "collapsed": false
   },
   "outputs": [
    {
     "name": "stdout",
     "output_type": "stream",
     "text": [
      "0.16\n"
     ]
    }
   ],
   "source": [
    "def power(base, exponent):\n",
    "    result = base**exponent\n",
    "    return result\n",
    "    \n",
    "def decimal_percentage(base, exponent):\n",
    "    print power(base, exponent) / 100.00\n",
    "    \n",
    "decimal_percentage(2,4)"
   ]
  },
  {
   "cell_type": "markdown",
   "metadata": {},
   "source": [
    "Let's say we want to see if our number is divisible by a certain number and remains an integer (no leftovers) and only return the result if it was and not do if it wasn't. To do that we use the % mathematical operator. We use print to get the outputs here. "
   ]
  },
  {
   "cell_type": "code",
   "execution_count": 25,
   "metadata": {
    "collapsed": false
   },
   "outputs": [
    {
     "name": "stdout",
     "output_type": "stream",
     "text": [
      "16\n",
      "False\n"
     ]
    }
   ],
   "source": [
    "def divisible_by_two(base, exponent):\n",
    "    if power(base, exponent) % 2 == 0:\n",
    "        return power(base, exponent)\n",
    "    else: \n",
    "        return False\n",
    "\n",
    "print divisible_by_two(2,4)\n",
    "print divisible_by_two(3,4)"
   ]
  },
  {
   "cell_type": "markdown",
   "metadata": {},
   "source": [
    "You don't have to reinvent the wheel writing simple functions though. Somebody has likely done it before you and package them into a **module**. Below we **import** the math module to find the square root of a number. Take note that when we are calling a function from a module we typically use use \"module.function\" syntax."
   ]
  },
  {
   "cell_type": "code",
   "execution_count": 29,
   "metadata": {
    "collapsed": false
   },
   "outputs": [
    {
     "name": "stdout",
     "output_type": "stream",
     "text": [
      "5.0\n"
     ]
    }
   ],
   "source": [
    "import math\n",
    "\n",
    "print math.sqrt(25)"
   ]
  },
  {
   "cell_type": "markdown",
   "metadata": {},
   "source": [
    "However, what if we don't need the whole module, but only a specific function from it. In that case we can use \"**from** module **import** function\". Take note how now we don't need to specify which module the function is from."
   ]
  },
  {
   "cell_type": "code",
   "execution_count": 30,
   "metadata": {
    "collapsed": false
   },
   "outputs": [
    {
     "name": "stdout",
     "output_type": "stream",
     "text": [
      "5.0\n"
     ]
    }
   ],
   "source": [
    "from math import sqrt\n",
    "\n",
    "print sqrt(25)"
   ]
  },
  {
   "cell_type": "markdown",
   "metadata": {},
   "source": [
    "What if we wanted all the function from a module but don't want to have to constantly type the module out. We can do a **universal import**. This is done by import \"*\". Here we use the the power function from the math module instead of our own."
   ]
  },
  {
   "cell_type": "code",
   "execution_count": 33,
   "metadata": {
    "collapsed": false
   },
   "outputs": [
    {
     "name": "stdout",
     "output_type": "stream",
     "text": [
      "16.0\n"
     ]
    }
   ],
   "source": [
    "from math import *\n",
    "\n",
    "print pow(2, 4)"
   ]
  },
  {
   "cell_type": "markdown",
   "metadata": {},
   "source": [
    "The danger of doing this is that we now have a bunch of variables and functions that may conflict with ours. Like if power function from math was also called \"power\" instead of \"pow\". In general it's recommended to just import module and type module.function or to import specific functions from the module."
   ]
  },
  {
   "cell_type": "markdown",
   "metadata": {},
   "source": [
    "Below we'll go over some of the functions available in python without having to import any modules. Take notice for how when we have multiple arguments for a function, we can use \"*\" syntax to denote there would be multiple arguments. Also take notice how we don't do it for the absolute value function since it only takes one input."
   ]
  },
  {
   "cell_type": "code",
   "execution_count": 42,
   "metadata": {
    "collapsed": false
   },
   "outputs": [
    {
     "name": "stdout",
     "output_type": "stream",
     "text": [
      "6\n",
      "2\n",
      "2\n",
      "<type 'int'>\n",
      "<type 'float'>\n",
      "<type 'str'>\n"
     ]
    }
   ],
   "source": [
    "def maximum(*n):\n",
    "    return max(n)\n",
    "    print max(n)\n",
    "\n",
    "def minimum(*n):\n",
    "    return min(n)\n",
    "    print min(n)\n",
    "\n",
    "def absolute_value(n):\n",
    "    return abs(n)\n",
    "    print abs(n)\n",
    "    \n",
    "def variable_type(n):\n",
    "    return type(n)\n",
    "    print type(n)\n",
    "    \n",
    "print maximum (2, 4, 6)\n",
    "print minimum (2, 4, 6)\n",
    "print absolute_value(-2)\n",
    "print variable_type(2)\n",
    "print variable_type(2.5)\n",
    "print variable_type(\"spam\")"
   ]
  },
  {
   "cell_type": "markdown",
   "metadata": {},
   "source": [
    "Take notice that python variables can have three types in general:\n",
    "\n",
    "  - Integers: Whole numbers.\n",
    "  - Floats: Numbers with decimal values.\n",
    "  - String: Text."
   ]
  },
  {
   "cell_type": "markdown",
   "metadata": {},
   "source": [
    "# Review Exercises #\n",
    "\n",
    "Here we define a function that will respond to users shut down input."
   ]
  },
  {
   "cell_type": "code",
   "execution_count": 44,
   "metadata": {
    "collapsed": false
   },
   "outputs": [
    {
     "name": "stdout",
     "output_type": "stream",
     "text": [
      "Shutting down\n"
     ]
    }
   ],
   "source": [
    "def shut_down(s):\n",
    "    if s == \"yes\":\n",
    "        return \"Shutting down\"\n",
    "    elif s == \"no\":\n",
    "        return \"Shutdown aborted\"\n",
    "    else:\n",
    "        return \"Sorry\"\n",
    "\n",
    "print shut_down(\"yes\")"
   ]
  },
  {
   "cell_type": "markdown",
   "metadata": {},
   "source": [
    "Below we import the square root function from the math module again."
   ]
  },
  {
   "cell_type": "code",
   "execution_count": 45,
   "metadata": {
    "collapsed": false
   },
   "outputs": [
    {
     "name": "stdout",
     "output_type": "stream",
     "text": [
      "117.0\n"
     ]
    }
   ],
   "source": [
    "from math import sqrt\n",
    "print sqrt(13689)"
   ]
  },
  {
   "cell_type": "markdown",
   "metadata": {},
   "source": [
    "Here we define a function that tells us the distance the number is from 0, otherwise it's absolute value. However it only does it if the argument is a integer or a float."
   ]
  },
  {
   "cell_type": "code",
   "execution_count": 46,
   "metadata": {
    "collapsed": false
   },
   "outputs": [
    {
     "name": "stdout",
     "output_type": "stream",
     "text": [
      "26.4\n",
      "Nope\n"
     ]
    }
   ],
   "source": [
    "def distance_from_zero(n):\n",
    "    if type(n) == int or type (n) == float:\n",
    "        return abs(n)\n",
    "        print abs(n)\n",
    "    else: \n",
    "        return \"Nope\"\n",
    "\n",
    "print distance_from_zero(-26.4)\n",
    "print distance_from_zero(\"spam\")"
   ]
  }
 ],
 "metadata": {
  "kernelspec": {
   "display_name": "Python 2",
   "language": "python",
   "name": "python2"
  },
  "language_info": {
   "codemirror_mode": {
    "name": "ipython",
    "version": 2
   },
   "file_extension": ".py",
   "mimetype": "text/x-python",
   "name": "python",
   "nbconvert_exporter": "python",
   "pygments_lexer": "ipython2",
   "version": "2.7.13"
  }
 },
 "nbformat": 4,
 "nbformat_minor": 2
}
