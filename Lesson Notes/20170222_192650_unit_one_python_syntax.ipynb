{
 "cells": [
  {
   "cell_type": "markdown",
   "metadata": {
    "deletable": true,
    "editable": true
   },
   "source": [
    "Python is an object oriented programming language. That means it uses **objects** as a way to enact things. Variables are one of the objects in Python. They are set by \"variable\\_name = value\". Take notice that variables names have \"\\_\" instead of spaces. You can view what values variables have by using the \"print\" function."
   ]
  },
  {
   "cell_type": "code",
   "execution_count": 30,
   "metadata": {
    "collapsed": false,
    "deletable": true,
    "editable": true
   },
   "outputs": [
    {
     "name": "stdout",
     "output_type": "stream",
     "text": [
      "10\n"
     ]
    }
   ],
   "source": [
    "my_variable = 10\n",
    "\n",
    "print my_variable"
   ]
  },
  {
   "cell_type": "markdown",
   "metadata": {
    "collapsed": true,
    "deletable": true,
    "editable": true
   },
   "source": [
    "Variables can have various **data types**. E.g. they can be integers (whole numbers) or floats (numbers with decimals)."
   ]
  },
  {
   "cell_type": "code",
   "execution_count": 31,
   "metadata": {
    "collapsed": true,
    "deletable": true,
    "editable": true
   },
   "outputs": [],
   "source": [
    "my_int = 7\n",
    "my_ = 1.23"
   ]
  },
  {
   "cell_type": "markdown",
   "metadata": {
    "deletable": true,
    "editable": true
   },
   "source": [
    "Another data type is a boolean. They only have two values, True and False (case sensitive)."
   ]
  },
  {
   "cell_type": "code",
   "execution_count": 32,
   "metadata": {
    "collapsed": true,
    "deletable": true,
    "editable": true
   },
   "outputs": [],
   "source": [
    "my_bool = True"
   ]
  },
  {
   "cell_type": "markdown",
   "metadata": {
    "deletable": true,
    "editable": true
   },
   "source": [
    "You can change variables values by resetting it."
   ]
  },
  {
   "cell_type": "code",
   "execution_count": 33,
   "metadata": {
    "collapsed": true,
    "deletable": true,
    "editable": true
   },
   "outputs": [],
   "source": [
    "my_int = 3"
   ]
  },
  {
   "cell_type": "markdown",
   "metadata": {
    "deletable": true,
    "editable": true
   },
   "source": [
    "**Whitespace** is an important part of Python syntax. You should have four spaces before any code on any lines under which you define a function. An example below of improper and proper code. Running the improper code will results in a syntax error. It's commented out below so that ipython will still run the notebook. "
   ]
  },
  {
   "cell_type": "code",
   "execution_count": 34,
   "metadata": {
    "collapsed": false,
    "deletable": true,
    "editable": true
   },
   "outputs": [],
   "source": [
    "#Improperly indented code\n",
    "#def incorrect_function():\n",
    "#test_variable = 10\n",
    "#return test_variable\n",
    "#print incorrect_function()"
   ]
  },
  {
   "cell_type": "code",
   "execution_count": 35,
   "metadata": {
    "collapsed": false,
    "deletable": true,
    "editable": true
   },
   "outputs": [
    {
     "name": "stdout",
     "output_type": "stream",
     "text": [
      "10\n"
     ]
    }
   ],
   "source": [
    "#Properly indented code\n",
    "def correct_function():\n",
    "    test_variable = 10\n",
    "    return test_variable\n",
    "print correct_function()"
   ]
  },
  {
   "cell_type": "markdown",
   "metadata": {
    "deletable": true,
    "editable": true
   },
   "source": [
    "Python code is run through an interpreter. It runs your code line by line and checks for error. There are special compilers that runs your code in a different way, though that is for later."
   ]
  },
  {
   "cell_type": "markdown",
   "metadata": {
    "deletable": true,
    "editable": true
   },
   "source": [
    "As shown earlier, code can be **commented** by including a # at the beginning of the line. It allows for description of the code to be included in the code base itself. Multi line comments would need a # on each line."
   ]
  },
  {
   "cell_type": "code",
   "execution_count": 36,
   "metadata": {
    "collapsed": false,
    "deletable": true,
    "editable": true
   },
   "outputs": [],
   "source": [
    "#single line comment\n",
    "\n",
    "#comment that spans\n",
    "#multiple lines"
   ]
  },
  {
   "cell_type": "markdown",
   "metadata": {
    "deletable": true,
    "editable": true
   },
   "source": [
    "Python allows for math operations to be run. Some examples below. Take notice of the syntax for multiplications (\\*) and exponential (\\**). "
   ]
  },
  {
   "cell_type": "code",
   "execution_count": 37,
   "metadata": {
    "collapsed": false,
    "deletable": true,
    "editable": true
   },
   "outputs": [
    {
     "name": "stdout",
     "output_type": "stream",
     "text": [
      "2\n",
      "0\n",
      "4\n",
      "1\n",
      "4\n",
      "1\n"
     ]
    }
   ],
   "source": [
    "addition = 1+1\n",
    "print addition\n",
    "\n",
    "subtraction = 1-1 \n",
    "print subtraction\n",
    "\n",
    "multiplication = 2*2\n",
    "print multiplication\n",
    "\n",
    "division = 2/2\n",
    "print division\n",
    "\n",
    "exponentials = 2**2\n",
    "print exponentials\n",
    "\n",
    "#The modulo function returns the remainder form a division.\n",
    "modulo = 3%2\n",
    "print modulo"
   ]
  }
 ],
 "metadata": {
  "kernelspec": {
   "display_name": "Python 2",
   "language": "python",
   "name": "python2"
  },
  "language_info": {
   "codemirror_mode": {
    "name": "ipython",
    "version": 2
   },
   "file_extension": ".py",
   "mimetype": "text/x-python",
   "name": "python",
   "nbconvert_exporter": "python",
   "pygments_lexer": "ipython2",
   "version": "2.7.13"
  }
 },
 "nbformat": 4,
 "nbformat_minor": 2
}
