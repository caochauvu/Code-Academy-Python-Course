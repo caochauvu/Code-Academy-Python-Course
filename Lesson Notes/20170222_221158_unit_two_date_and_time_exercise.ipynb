{
 "cells": [
  {
   "cell_type": "markdown",
   "metadata": {
    "deletable": true,
    "editable": true
   },
   "source": [
    "Sometimes you'll need to work with dates and time in your code. For that we can use datetime. To do that we need to import the **datetime module**. "
   ]
  },
  {
   "cell_type": "code",
   "execution_count": 2,
   "metadata": {
    "collapsed": true,
    "deletable": true,
    "editable": true
   },
   "outputs": [],
   "source": [
    "from datetime import datetime"
   ]
  },
  {
   "cell_type": "markdown",
   "metadata": {},
   "source": [
    "Say you wanted the current date and time."
   ]
  },
  {
   "cell_type": "code",
   "execution_count": 3,
   "metadata": {
    "collapsed": false
   },
   "outputs": [
    {
     "name": "stdout",
     "output_type": "stream",
     "text": [
      "2017-02-22 22:18:28.131665\n"
     ]
    }
   ],
   "source": [
    "now = datetime.now()\n",
    "print now"
   ]
  },
  {
   "cell_type": "markdown",
   "metadata": {},
   "source": [
    "If you only want certain aspect of the date you can modify the function."
   ]
  },
  {
   "cell_type": "code",
   "execution_count": 4,
   "metadata": {
    "collapsed": false
   },
   "outputs": [
    {
     "name": "stdout",
     "output_type": "stream",
     "text": [
      "2017\n",
      "2\n",
      "22\n"
     ]
    }
   ],
   "source": [
    "current_year = now.year\n",
    "current_month = now.month\n",
    "current_day = now.day\n",
    "\n",
    "print current_year\n",
    "print current_month\n",
    "print current_day"
   ]
  },
  {
   "cell_type": "markdown",
   "metadata": {},
   "source": [
    "If we wanted to print the date in mm/dd/yyyy format that is common to the US, we could do it like so. We could either do it by using the variables or using the functions themselves. "
   ]
  },
  {
   "cell_type": "code",
   "execution_count": 6,
   "metadata": {
    "collapsed": false
   },
   "outputs": [
    {
     "name": "stdout",
     "output_type": "stream",
     "text": [
      "2/22/2017\n",
      "2/22/2017\n"
     ]
    }
   ],
   "source": [
    "print \"%s/%s/%s\" % (current_month, current_day, current_year)\n",
    "print \"%s/%s/%s\" % (now.month, now.day, now.year)"
   ]
  },
  {
   "cell_type": "markdown",
   "metadata": {},
   "source": [
    "The same could be done with certain aspect of the time. "
   ]
  },
  {
   "cell_type": "code",
   "execution_count": 7,
   "metadata": {
    "collapsed": false
   },
   "outputs": [
    {
     "name": "stdout",
     "output_type": "stream",
     "text": [
      "22:18:28\n"
     ]
    }
   ],
   "source": [
    "current_hour = now.hour\n",
    "current_minute = now.minute\n",
    "current_second = now.second\n",
    "\n",
    "print \"%s:%s:%s\" %(current_hour, current_minute, current_second)"
   ]
  },
  {
   "cell_type": "markdown",
   "metadata": {},
   "source": [
    "Now we can combine the two separate outputs and compare to when we print now."
   ]
  },
  {
   "cell_type": "code",
   "execution_count": 8,
   "metadata": {
    "collapsed": false
   },
   "outputs": [
    {
     "name": "stdout",
     "output_type": "stream",
     "text": [
      "2017-02-22 22:18:28.131665\n",
      "2-22-2017 22:18:28\n"
     ]
    }
   ],
   "source": [
    "print now\n",
    "print \"%s-%s-%s %s:%s:%s\" % (current_month, current_day, current_year, current_hour, current_minute, current_second)"
   ]
  },
  {
   "cell_type": "markdown",
   "metadata": {},
   "source": [
    "There is a slight difference due to how the now function print out the decimal values for the second and how it formats the date, but it otherwise matches up. "
   ]
  }
 ],
 "metadata": {
  "kernelspec": {
   "display_name": "Python 2",
   "language": "python",
   "name": "python2"
  },
  "language_info": {
   "codemirror_mode": {
    "name": "ipython",
    "version": 2
   },
   "file_extension": ".py",
   "mimetype": "text/x-python",
   "name": "python",
   "nbconvert_exporter": "python",
   "pygments_lexer": "ipython2",
   "version": "2.7.13"
  }
 },
 "nbformat": 4,
 "nbformat_minor": 2
}
