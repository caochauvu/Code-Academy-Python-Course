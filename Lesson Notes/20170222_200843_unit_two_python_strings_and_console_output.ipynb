{
 "cells": [
  {
   "cell_type": "markdown",
   "metadata": {
    "deletable": true,
    "editable": true
   },
   "source": [
    "Another data type is a **string**. Strings can contain letters, numbers and symbols. Notice the quotation marks encapsulating the values."
   ]
  },
  {
   "cell_type": "code",
   "execution_count": 1,
   "metadata": {
    "collapsed": true,
    "deletable": true,
    "editable": true
   },
   "outputs": [],
   "source": [
    "name = \"Kyle\"\n",
    "age = \"11\"\n",
    "food = \"rice\""
   ]
  },
  {
   "cell_type": "markdown",
   "metadata": {
    "deletable": true,
    "editable": true
   },
   "source": [
    "You can escape characters (keyboard, not stories) by using \"\\\". For examples apostrophes may cause python to think a string ends and break the code, so you can escape those like below."
   ]
  },
  {
   "cell_type": "code",
   "execution_count": 2,
   "metadata": {
    "collapsed": false,
    "deletable": true,
    "editable": true
   },
   "outputs": [
    {
     "name": "stdout",
     "output_type": "stream",
     "text": [
      "There's a snake in my boot\n"
     ]
    }
   ],
   "source": [
    "string = \"There\\'s a snake in my boot\"\n",
    "print string"
   ]
  },
  {
   "cell_type": "markdown",
   "metadata": {
    "deletable": true,
    "editable": true
   },
   "source": [
    "Each separate character in a string has a place value in the **index**. You can call the characters by using [place_value] following the variable. The index always start it off at 0 instead of 1. It also doesn't count the \"\\\" being used for escapes. "
   ]
  },
  {
   "cell_type": "code",
   "execution_count": 3,
   "metadata": {
    "collapsed": false,
    "deletable": true,
    "editable": true
   },
   "outputs": [
    {
     "name": "stdout",
     "output_type": "stream",
     "text": [
      "T\n",
      "'\n"
     ]
    }
   ],
   "source": [
    "string_first_letter = string[0]\n",
    "print string_first_letter\n",
    "\n",
    "string_apostrophe = string[5]\n",
    "print string_apostrophe"
   ]
  },
  {
   "cell_type": "markdown",
   "metadata": {
    "deletable": true,
    "editable": true
   },
   "source": [
    "You can perform functions on these strings called **string methods**. Like below we use count how many characters are in a string using the function len(). Here it counts from 1 instead of 0. "
   ]
  },
  {
   "cell_type": "code",
   "execution_count": 4,
   "metadata": {
    "collapsed": false,
    "deletable": true,
    "editable": true
   },
   "outputs": [
    {
     "name": "stdout",
     "output_type": "stream",
     "text": [
      "26\n"
     ]
    }
   ],
   "source": [
    "print len(string)"
   ]
  },
  {
   "cell_type": "markdown",
   "metadata": {
    "deletable": true,
    "editable": true
   },
   "source": [
    "You can call other string methods like making the strings all caps or all lower case. Take notice how the function is formatted compared to the length function."
   ]
  },
  {
   "cell_type": "code",
   "execution_count": 5,
   "metadata": {
    "collapsed": false,
    "deletable": true,
    "editable": true
   },
   "outputs": [
    {
     "name": "stdout",
     "output_type": "stream",
     "text": [
      "THERE'S A SNAKE IN MY BOOT\n",
      "there's a snake in my boot\n"
     ]
    }
   ],
   "source": [
    "print string.upper()\n",
    "print string.lower()"
   ]
  },
  {
   "cell_type": "markdown",
   "metadata": {
    "deletable": true,
    "editable": true
   },
   "source": [
    "You can turn any variables into strings using the str() function."
   ]
  },
  {
   "cell_type": "code",
   "execution_count": 6,
   "metadata": {
    "collapsed": false,
    "deletable": true,
    "editable": true
   },
   "outputs": [
    {
     "name": "stdout",
     "output_type": "stream",
     "text": [
      "10\n",
      "10\n",
      "2\n"
     ]
    }
   ],
   "source": [
    "example_variable = 10\n",
    "print example_variable\n",
    "\n",
    "example_string = str(example_variable)\n",
    "print example_string\n",
    "print len(example_string)"
   ]
  },
  {
   "cell_type": "markdown",
   "metadata": {
    "deletable": true,
    "editable": true
   },
   "source": [
    "Methods that only works with strings will have **dot notation**, like the upper and lower methods. The str() and len() methods can work on other data types though. "
   ]
  },
  {
   "cell_type": "markdown",
   "metadata": {
    "deletable": true,
    "editable": true
   },
   "source": [
    "As mentioned before, we can use the print function to tell the value of a variable. It gives the output in a console. In this notebook the output is just put below the input cell instead. It can be done with only an input (no variables or strings need to be set) or with variables or strings."
   ]
  },
  {
   "cell_type": "code",
   "execution_count": 7,
   "metadata": {
    "collapsed": false,
    "deletable": true,
    "editable": true
   },
   "outputs": [
    {
     "name": "stdout",
     "output_type": "stream",
     "text": [
      "Monty Python\n",
      "10\n",
      "Kyle\n"
     ]
    }
   ],
   "source": [
    "print \"Monty Python\"\n",
    "print example_variable\n",
    "print name"
   ]
  },
  {
   "cell_type": "markdown",
   "metadata": {
    "deletable": true,
    "editable": true
   },
   "source": [
    "You can **concatenate (combined)** strings in output by printing them together using the + notation. Take note that if you want space included you have to input them yourself."
   ]
  },
  {
   "cell_type": "code",
   "execution_count": 8,
   "metadata": {
    "collapsed": false,
    "deletable": true,
    "editable": true
   },
   "outputs": [
    {
     "name": "stdout",
     "output_type": "stream",
     "text": [
      "Spam and eggs\n"
     ]
    }
   ],
   "source": [
    "print \"Spam \" + \"and \" + \"eggs\""
   ]
  },
  {
   "cell_type": "markdown",
   "metadata": {
    "deletable": true,
    "editable": true
   },
   "source": [
    "You can concatenate non-strings with strings by converting them into strings like below. You can also incldue strings that you already defined. "
   ]
  },
  {
   "cell_type": "code",
   "execution_count": 9,
   "metadata": {
    "collapsed": false,
    "deletable": true,
    "editable": true
   },
   "outputs": [
    {
     "name": "stdout",
     "output_type": "stream",
     "text": [
      "There are 50 states in the United States of America.\n"
     ]
    }
   ],
   "source": [
    "there_are = \"There are \"\n",
    "\n",
    "print there_are  + str(50) + \" states in the United States of America.\""
   ]
  },
  {
   "cell_type": "markdown",
   "metadata": {
    "deletable": true,
    "editable": true
   },
   "source": [
    "If you want to include variables with strings, you can concatenate them by using the % operator. Here we use the \"%s\" operator since we're working with strings."
   ]
  },
  {
   "cell_type": "code",
   "execution_count": 10,
   "metadata": {
    "collapsed": false,
    "deletable": true,
    "editable": true
   },
   "outputs": [
    {
     "name": "stdout",
     "output_type": "stream",
     "text": [
      "The United States is a country in North America\n"
     ]
    }
   ],
   "source": [
    "country = \"United States\"\n",
    "continent = \"North America\"\n",
    "\n",
    "print \"The %s is a country in %s\" %(country, continent)"
   ]
  },
  {
   "cell_type": "markdown",
   "metadata": {
    "deletable": true,
    "editable": true
   },
   "source": [
    "You can have user specific input using raw_input."
   ]
  },
  {
   "cell_type": "code",
   "execution_count": 11,
   "metadata": {
    "collapsed": false,
    "deletable": true,
    "editable": true
   },
   "outputs": [
    {
     "name": "stdout",
     "output_type": "stream",
     "text": [
      "What is your name? Kyle\n",
      "What is your favorite sport? Tennis\n",
      "What is your favorite color? Green\n"
     ]
    }
   ],
   "source": [
    "name = raw_input(\"What is your name? \")\n",
    "sport = raw_input(\"What is your favorite sport? \")\n",
    "color = raw_input(\"What is your favorite color? \")"
   ]
  },
  {
   "cell_type": "markdown",
   "metadata": {
    "deletable": true,
    "editable": true
   },
   "source": [
    "Then you can combine them like so."
   ]
  },
  {
   "cell_type": "code",
   "execution_count": 12,
   "metadata": {
    "collapsed": false,
    "deletable": true,
    "editable": true
   },
   "outputs": [
    {
     "name": "stdout",
     "output_type": "stream",
     "text": [
      "Ah so your name is Kyle, your favorite sport is Tennis, and your favorite color is Green\n"
     ]
    }
   ],
   "source": [
    "print \"Ah so your name is %s, your favorite sport is %s, and your favorite color is %s\" %(name, sport, color)"
   ]
  }
 ],
 "metadata": {
  "kernelspec": {
   "display_name": "Python 2",
   "language": "python",
   "name": "python2"
  },
  "language_info": {
   "codemirror_mode": {
    "name": "ipython",
    "version": 2
   },
   "file_extension": ".py",
   "mimetype": "text/x-python",
   "name": "python",
   "nbconvert_exporter": "python",
   "pygments_lexer": "ipython2",
   "version": "2.7.13"
  }
 },
 "nbformat": 4,
 "nbformat_minor": 2
}
