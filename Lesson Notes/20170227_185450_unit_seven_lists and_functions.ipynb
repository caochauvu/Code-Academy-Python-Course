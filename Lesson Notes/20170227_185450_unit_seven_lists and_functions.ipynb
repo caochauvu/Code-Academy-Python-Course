{
 "cells": [
  {
   "cell_type": "markdown",
   "metadata": {
    "deletable": true,
    "editable": true
   },
   "source": [
    "# Lesson Notes #"
   ]
  },
  {
   "cell_type": "markdown",
   "metadata": {
    "deletable": true,
    "editable": true
   },
   "source": [
    "## List Recaps ##\n",
    "\n",
    "We can access an element in a list like so."
   ]
  },
  {
   "cell_type": "code",
   "execution_count": 24,
   "metadata": {
    "collapsed": false,
    "deletable": true,
    "editable": true
   },
   "outputs": [
    {
     "name": "stdout",
     "output_type": "stream",
     "text": [
      "3\n"
     ]
    }
   ],
   "source": [
    "example_list = [1, 3, 5]\n",
    "\n",
    "# To access the second element we do it like so. Remember the index starts from 0.\n",
    "\n",
    "print example_list[1]"
   ]
  },
  {
   "cell_type": "markdown",
   "metadata": {
    "deletable": true,
    "editable": true
   },
   "source": [
    "Say we want that number to now be the product of that element and 5."
   ]
  },
  {
   "cell_type": "code",
   "execution_count": 25,
   "metadata": {
    "collapsed": false,
    "deletable": true,
    "editable": true
   },
   "outputs": [
    {
     "name": "stdout",
     "output_type": "stream",
     "text": [
      "15\n"
     ]
    }
   ],
   "source": [
    "example_list[1] = example_list[1] * 5\n",
    "print example_list[1]"
   ]
  },
  {
   "cell_type": "markdown",
   "metadata": {
    "deletable": true,
    "editable": true
   },
   "source": [
    "To append we do it like so."
   ]
  },
  {
   "cell_type": "code",
   "execution_count": 26,
   "metadata": {
    "collapsed": false,
    "deletable": true,
    "editable": true
   },
   "outputs": [
    {
     "name": "stdout",
     "output_type": "stream",
     "text": [
      "[1, 15, 5, 4]\n"
     ]
    }
   ],
   "source": [
    "example_list.append(4)\n",
    "print example_list"
   ]
  },
  {
   "cell_type": "markdown",
   "metadata": {
    "deletable": true,
    "editable": true
   },
   "source": [
    "We have three ways to remove an item from a list."
   ]
  },
  {
   "cell_type": "code",
   "execution_count": 37,
   "metadata": {
    "collapsed": false,
    "deletable": true,
    "editable": true
   },
   "outputs": [
    {
     "name": "stdout",
     "output_type": "stream",
     "text": [
      "[1, 5]\n",
      "\n",
      "[1, 2, 3, 5]\n",
      "\n",
      "[1, 5]\n"
     ]
    }
   ],
   "source": [
    "# .pop(index) will remove the item at the index you specify and then return it to you. \n",
    "example_list = [1, 3, 5]\n",
    "example_list.pop(1)\n",
    "print example_list\n",
    "print \"\"\n",
    "\n",
    "# .remove(item) will remove the \"item\" if it finds it, not the item at that index.\n",
    "# It will remove only the first time the item appears.\n",
    "# The 3 before the 4 in the index is removed instead of the one after.\n",
    "example_list = [1, 3, 2, 3, 5]\n",
    "example_list.remove(3)\n",
    "print example_list\n",
    "print \"\"\n",
    "\n",
    "# del(list[index]) will remove the item at the index given but it won't return the item.\n",
    "example_list = [1, 3, 5]\n",
    "del(example_list[1])\n",
    "print example_list"
   ]
  },
  {
   "cell_type": "markdown",
   "metadata": {
    "deletable": true,
    "editable": true
   },
   "source": [
    "## Functions Recaps ##\n",
    "\n",
    "We can create functions to act on both numbers and strings."
   ]
  },
  {
   "cell_type": "code",
   "execution_count": 28,
   "metadata": {
    "collapsed": false,
    "deletable": true,
    "editable": true
   },
   "outputs": [
    {
     "name": "stdout",
     "output_type": "stream",
     "text": [
      "5\n",
      "Hello world\n"
     ]
    }
   ],
   "source": [
    "# A function acting on numbers.\n",
    "def add_numbers (x, y):\n",
    "    return x + y\n",
    "\n",
    "print add_numbers(3, 2)\n",
    "\n",
    "# A funtion acting on strings.\n",
    "def string_function(string):\n",
    "    return string + \" \" + \"world\"\n",
    "\n",
    "print string_function(\"Hello\")"
   ]
  },
  {
   "cell_type": "markdown",
   "metadata": {
    "deletable": true,
    "editable": true
   },
   "source": [
    "## Introduction to Using Functions with Lists ##\n",
    "\n",
    "You can pass lists into functions like you can with numbers and strings."
   ]
  },
  {
   "cell_type": "code",
   "execution_count": 29,
   "metadata": {
    "collapsed": false,
    "deletable": true,
    "editable": true
   },
   "outputs": [
    {
     "name": "stdout",
     "output_type": "stream",
     "text": [
      "1\n",
      "[2, 3, 5]\n"
     ]
    }
   ],
   "source": [
    "# We'll reset our list.\n",
    "example_list = [1, 3, 5]\n",
    "\n",
    "# A function that returns the first item in a list.\n",
    "def list_functions(list):\n",
    "    return list[0]\n",
    "\n",
    "print list_functions(example_list)\n",
    "\n",
    "# We can also create a function to replace a number in an index by the product of that number and 2.\n",
    "def double_number(list, index):\n",
    "    list[index] = list[index] * 2\n",
    "    return list\n",
    "    \n",
    "print double_number(example_list, 0)"
   ]
  },
  {
   "cell_type": "markdown",
   "metadata": {
    "deletable": true,
    "editable": true
   },
   "source": [
    "We can use list operations in our functions too. For example, say we want to do a find and replace operation on our list to look for any 2, remove them, then add 1 to a list instead."
   ]
  },
  {
   "cell_type": "code",
   "execution_count": 30,
   "metadata": {
    "collapsed": false,
    "deletable": true,
    "editable": true,
    "scrolled": false
   },
   "outputs": [
    {
     "name": "stdout",
     "output_type": "stream",
     "text": [
      "Input is [1, 2, 2, 2, 3, 4, 5]\n",
      "Output is [1, 2, 3, 4, 5, 1, 1]\n",
      "\n",
      "Input is [1, 2, 2, 2, 2, 3, 4, 5]\n",
      "Output is [1, 2, 2, 3, 4, 5, 1, 1]\n"
     ]
    }
   ],
   "source": [
    "# We'll have a new example list on which we can test this function.\n",
    "\n",
    "example_list = [1, 2, 2, 2, 3, 4, 5]\n",
    "\n",
    "def one_for_two(list):\n",
    "    for number in (list):\n",
    "        if number == 2:\n",
    "            list.remove(2)\n",
    "            list.append(1)\n",
    "    return list\n",
    "\n",
    "print \"Input is \" + str(example_list)\n",
    "print \"Output is \" + str(one_for_two(example_list))\n",
    "\n",
    "print \"\"\n",
    "\n",
    "# If we add two more 2, the problem is even worse.\n",
    "example_list = [1, 2, 2, 2, 2, 3, 4, 5]\n",
    "print \"Input is \" + str(example_list)\n",
    "print \"Output is \" + str(one_for_two(example_list))"
   ]
  },
  {
   "cell_type": "markdown",
   "metadata": {
    "deletable": true,
    "editable": true
   },
   "source": [
    "The reason why our function doesn't remove all the 2s is because the index of the list is sliding due to us removing numbers. An explanation of that can be found [here](http://stackoverflow.com/questions/6500888/removing-from-a-list-while-iterating-over-it).\n",
    "\n",
    "Trying to do it by using a counter doesn't work on first pass either, it still has the sliding index problem. However if we split it into two for loops it will work. Or we can even use a **while** loop instead. "
   ]
  },
  {
   "cell_type": "code",
   "execution_count": 31,
   "metadata": {
    "collapsed": false,
    "deletable": true,
    "editable": true
   },
   "outputs": [
    {
     "name": "stdout",
     "output_type": "stream",
     "text": [
      "The input is [1, 2, 2, 2, 2, 2, 3, 4, 5]\n",
      "The output of just using a counter is [1, 2, 2, 3, 4, 5, 1, 1, 1]\n",
      "The output of using two for loops is [1, 3, 4, 5, 1, 1, 1, 1, 1]\n",
      "The output of using a for loop and a while loop is [1, 3, 4, 5, 1, 1, 1]\n"
     ]
    }
   ],
   "source": [
    "def one_for_two(list):\n",
    "    count = 0\n",
    "    for number in (list):\n",
    "        if number == 2:\n",
    "            count += 1\n",
    "        if count > 0:\n",
    "            list.remove(2)\n",
    "            list.append(1)\n",
    "            count -= 1\n",
    "    return list\n",
    "\n",
    "example_list = [1, 2, 2, 2, 2, 2, 3, 4, 5]\n",
    "print \"The input is \" + str(example_list)\n",
    "print \"The output of just using a counter is \" + str(one_for_two(example_list))\n",
    "\n",
    "def one_for_two(list):\n",
    "    count = 0\n",
    "    for number in (list):\n",
    "        if number == 2:\n",
    "            count += 1\n",
    "    # Using a for loop that will remove a 2 and add a 1 for each element in count, which will be equal to our count since we converted it to a range list. \n",
    "    for i in range(count):\n",
    "        list.remove(2)\n",
    "        list.append(1)\n",
    "    return list\n",
    "\n",
    "print \"The output of using two for loops is \" + str(one_for_two(example_list))\n",
    "\n",
    "example_list = [1, 2, 2, 2, 3, 4, 5]\n",
    "def one_for_two(list):\n",
    "    count = 0\n",
    "    for number in (list):\n",
    "        if number == 2:\n",
    "            count += 1\n",
    "    while (count > 0):\n",
    "        list.remove(2)\n",
    "        list.append(1)\n",
    "        count -= 1\n",
    "    return list\n",
    "\n",
    "print \"The output of using a for loop and a while loop is \" + str(one_for_two(example_list))"
   ]
  },
  {
   "cell_type": "markdown",
   "metadata": {
    "deletable": true,
    "editable": true
   },
   "source": [
    "As we can see, either of the ways we do it the output will be the same. We've found two different ways to do our goal.\n",
    "\n",
    "Alright, now we know how to replaces all the elements in a list with another one. What if we want to preserve the index though. We can do that by just replacing the number itself by reassigning it. "
   ]
  },
  {
   "cell_type": "code",
   "execution_count": 5,
   "metadata": {
    "collapsed": false,
    "deletable": true,
    "editable": true
   },
   "outputs": [
    {
     "name": "stdout",
     "output_type": "stream",
     "text": [
      "Input is [1, 2, 2, 2, 3, 4, 5]\n",
      "Output is [1, 2, 1, 2, 3, 4, 5]\n"
     ]
    }
   ],
   "source": [
    "example_list = [1, 2, 2, 2, 3, 4, 5]\n",
    "\n",
    "def replace_one_for_two(lists):\n",
    "    # Pay attention to how we use range(len(list)) here. \n",
    "    for i in range(len(lists)):\n",
    "        if i == 2: \n",
    "            lists[i] = 1\n",
    "    return lists\n",
    "\n",
    "print \"Input is \" + str(example_list)\n",
    "print \"Output is \" + str(replace_one_for_two(example_list))"
   ]
  },
  {
   "cell_type": "markdown",
   "metadata": {
    "deletable": true,
    "editable": true
   },
   "source": [
    "The problem with our function here is that by using range(len(lists)) we are only working with the index, so it will only set the element to 1 when our index is at 2, which will only happen once in our list. It will also happen regardless of whether the number at that index is a two or not. What we need to do instead is to use the enumerate function which let us both specify an index and the action to perform at an element at that index. We format an enumerate like so:\n",
    "\n",
    "**for** index, element **in** enumerate(lists)"
   ]
  },
  {
   "cell_type": "code",
   "execution_count": 32,
   "metadata": {
    "collapsed": false,
    "deletable": true,
    "editable": true
   },
   "outputs": [
    {
     "name": "stdout",
     "output_type": "stream",
     "text": [
      "Input is [1, 2, 2, 2, 3, 4, 5]\n",
      "Output is [1, 1, 1, 1, 3, 4, 5]\n"
     ]
    }
   ],
   "source": [
    "example_list = [1, 2, 2, 2, 3, 4, 5]\n",
    "\n",
    "def replace_one_for_two(lists):\n",
    "    # We specify both the index and the element we want to act on at that index.\n",
    "    # To better understand enumerate, see below.\n",
    "    for index, number in enumerate(lists):\n",
    "        if number == 2: \n",
    "            lists[index] = 1\n",
    "    return lists\n",
    "\n",
    "print \"Input is \" + str(example_list)\n",
    "print \"Output is \" + str(replace_one_for_two(example_list))"
   ]
  },
  {
   "cell_type": "markdown",
   "metadata": {
    "deletable": true,
    "editable": true
   },
   "source": [
    "You can also do this using [list comprehension][link] like so.\n",
    "\n",
    "[link]: https://docs.python.org/3/tutorial/datastructures.html#list-comprehensions"
   ]
  },
  {
   "cell_type": "code",
   "execution_count": 33,
   "metadata": {
    "collapsed": false,
    "deletable": true,
    "editable": true
   },
   "outputs": [
    {
     "name": "stdout",
     "output_type": "stream",
     "text": [
      "[1, 1, 1, 1, 3, 4, 5]\n"
     ]
    }
   ],
   "source": [
    "example_list = [1, 2, 2, 2, 3, 4, 5]\n",
    "example_list = [1 if x==2 else x for x in example_list]\n",
    "print example_list"
   ]
  },
  {
   "cell_type": "markdown",
   "metadata": {
    "deletable": true,
    "editable": true
   },
   "source": [
    "## Using the Entire List in a Function ##\n",
    "\n",
    "We've been using the range function for a while now. The range function allows us to create a list with elements depending on what we use.\n",
    "\n",
    "  - range(stop)\n",
    "  - range(start, stop)\n",
    "  - range(start, stop, step)"
   ]
  },
  {
   "cell_type": "code",
   "execution_count": 6,
   "metadata": {
    "collapsed": false,
    "deletable": true,
    "editable": true
   },
   "outputs": [
    {
     "name": "stdout",
     "output_type": "stream",
     "text": [
      "[0, 1, 2, 3, 4]\n",
      "[1, 2, 3, 4]\n",
      "[1, 3]\n"
     ]
    }
   ],
   "source": [
    "# Print all numbers until a stop number.\n",
    "\n",
    "print range(5)\n",
    "\n",
    "# Print all numbers from a start number until a stop number.\n",
    "\n",
    "print range(1,5)\n",
    "\n",
    "# Print every number at step intervals (every two in this case) from start to stop.\n",
    "\n",
    "print range(1, 5, 2)"
   ]
  },
  {
   "cell_type": "markdown",
   "metadata": {
    "deletable": true,
    "editable": true
   },
   "source": [
    "When we are acting on the element itself, we would use the **enumerate** function. The enumerate function allows us to create a tuple within our list with an (index, element) pair, like so."
   ]
  },
  {
   "cell_type": "code",
   "execution_count": 9,
   "metadata": {
    "collapsed": false,
    "deletable": true,
    "editable": true
   },
   "outputs": [
    {
     "name": "stdout",
     "output_type": "stream",
     "text": [
      "[(0, 1), (1, 2), (2, 2), (3, 2), (4, 3), (5, 4), (6, 5)]\n"
     ]
    }
   ],
   "source": [
    "example_list = example_list = [1, 2, 2, 2, 3, 4, 5]\n",
    "\n",
    "# To enumerate a list we need to use list(enumerate(list_we_want_to_enumerate)) syntax.\n",
    "example_list_enumerated = list(enumerate(example_list))\n",
    "print example_list_enumerated"
   ]
  },
  {
   "cell_type": "markdown",
   "metadata": {
    "deletable": true,
    "editable": true
   },
   "source": [
    "The reason we can use the range function is to use it with the length function to create a list with an index of equal length to our own list. Looping through an index allows us to modify the list itself.\n",
    "\n",
    "We've been working with numbers in our list but we can also work with strings."
   ]
  },
  {
   "cell_type": "code",
   "execution_count": 5,
   "metadata": {
    "collapsed": false,
    "deletable": true,
    "editable": true
   },
   "outputs": [
    {
     "name": "stdout",
     "output_type": "stream",
     "text": [
      " Tennis Balls\n"
     ]
    }
   ],
   "source": [
    "def join_strings(words_strings):\n",
    "    result = \"\"\n",
    "    for i in words_strings:\n",
    "        # We put an empty space there in order to separate the words.\n",
    "        result += \" \" + i\n",
    "    return result\n",
    "\n",
    "example_words_string = [\"Tennis\", \"Balls\"]\n",
    "print join_strings(example_words_string)"
   ]
  },
  {
   "cell_type": "markdown",
   "metadata": {
    "deletable": true,
    "editable": true
   },
   "source": [
    "## Using Lists of Lists in Functions ##\n",
    "\n",
    "We can also work with multiple lists."
   ]
  },
  {
   "cell_type": "code",
   "execution_count": 36,
   "metadata": {
    "collapsed": false,
    "deletable": true,
    "editable": true,
    "scrolled": true
   },
   "outputs": [
    {
     "name": "stdout",
     "output_type": "stream",
     "text": [
      "[1, 2, 3, 4, 5, 6]\n"
     ]
    }
   ],
   "source": [
    "m = [1, 2, 3]\n",
    "n = [4, 5, 6]\n",
    "\n",
    "def join_lists(list_one, list_two):\n",
    "    for i in list_two:\n",
    "        list_one.append(i)\n",
    "    return list_one\n",
    "\n",
    "print join_lists(m, n)"
   ]
  },
  {
   "cell_type": "markdown",
   "metadata": {
    "deletable": true,
    "editable": true
   },
   "source": [
    "And we can work with lists of lists. "
   ]
  },
  {
   "cell_type": "code",
   "execution_count": 40,
   "metadata": {
    "collapsed": false,
    "deletable": true,
    "editable": true
   },
   "outputs": [
    {
     "name": "stdout",
     "output_type": "stream",
     "text": [
      "[1, 2, 3, 4, 5, 6]\n",
      "['tennis', 'ping pong', 'badmitton', 'frisbee', 'soccer', 'football']\n"
     ]
    }
   ],
   "source": [
    "# Our function will take a single list and concatenate the sublists in our list into one single list.\n",
    "\n",
    "list_of_list = [[1, 2, 3], [4, 5, 6]]\n",
    "\n",
    "def flatten(lists):\n",
    "    results = []\n",
    "    for sublist in lists:\n",
    "        for i in sublist: \n",
    "            results.append(i)\n",
    "    return results\n",
    "\n",
    "print flatten(list_of_list)\n",
    "\n",
    "# It works with strings too.\n",
    "\n",
    "list_of_string_list = [[\"tennis\", \"ping pong\", \"badmitton\"], [\"frisbee\", \"soccer\", \"football\"]]\n",
    "print flatten(list_of_string_list)"
   ]
  }
 ],
 "metadata": {
  "kernelspec": {
   "display_name": "Python 2",
   "language": "python",
   "name": "python2"
  },
  "language_info": {
   "codemirror_mode": {
    "name": "ipython",
    "version": 2
   },
   "file_extension": ".py",
   "mimetype": "text/x-python",
   "name": "python",
   "nbconvert_exporter": "python",
   "pygments_lexer": "ipython2",
   "version": "2.7.13"
  }
 },
 "nbformat": 4,
 "nbformat_minor": 2
}
