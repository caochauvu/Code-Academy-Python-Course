{
 "cells": [
  {
   "cell_type": "markdown",
   "metadata": {
    "deletable": true,
    "editable": true
   },
   "source": [
    "# Notes #\n",
    "\n",
    "## Lists ##"
   ]
  },
  {
   "cell_type": "markdown",
   "metadata": {
    "deletable": true,
    "editable": true
   },
   "source": [
    "**List** are a **data type** in which you store different information in a sequence under a single variable. List items are assigned in the form of list_name [item_1, item_2, etc.) Empty lists can be made by putting nothing in the square brackets. Lists can contain integers, floats, and strings. They also have **indexes** that start off at 0 like strings."
   ]
  },
  {
   "cell_type": "code",
   "execution_count": 135,
   "metadata": {
    "collapsed": false,
    "deletable": true,
    "editable": true
   },
   "outputs": [
    {
     "name": "stdout",
     "output_type": "stream",
     "text": [
      "The first animal at the zoo is the pangolin\n",
      "The second animal at the zoo is the cassowary\n",
      "The third animal at the zoo is the sloth\n",
      "The fourth animal at the zoo is the T-Rex\n"
     ]
    }
   ],
   "source": [
    "zoo_animals = [\"pangolin\", \"cassowary\", \"sloth\", \"T-Rex\"];\n",
    "\n",
    "if len(zoo_animals) > 3:\n",
    "\tprint \"The first animal at the zoo is the \" + zoo_animals[0]\n",
    "\tprint \"The second animal at the zoo is the \" + zoo_animals[1]\n",
    "\tprint \"The third animal at the zoo is the \" + zoo_animals[2]\n",
    "\tprint \"The fourth animal at the zoo is the \" + zoo_animals[3]\n",
    "    \n",
    "empty_list = []"
   ]
  },
  {
   "cell_type": "markdown",
   "metadata": {
    "deletable": true,
    "editable": true
   },
   "source": [
    "Operations can be done on the individual items in a list."
   ]
  },
  {
   "cell_type": "code",
   "execution_count": 136,
   "metadata": {
    "collapsed": false,
    "deletable": true,
    "editable": true
   },
   "outputs": [
    {
     "name": "stdout",
     "output_type": "stream",
     "text": [
      "15\n",
      "tennis balls\n",
      "tennis racquets\n"
     ]
    }
   ],
   "source": [
    "numbers = [5, 6, 7, 8]\n",
    "print numbers[2] + numbers[3]\n",
    "\n",
    "tennis_words = [\"tennis\", \"balls\", \"racquets\", \"court\"]\n",
    "print tennis_words[0] + \" \" + tennis_words[1]\n",
    "print tennis_words[0] + \" \" + tennis_words[2]"
   ]
  },
  {
   "cell_type": "markdown",
   "metadata": {
    "deletable": true,
    "editable": true
   },
   "source": [
    "What if you wanted to change only some items in the list, you can do so by using the index. "
   ]
  },
  {
   "cell_type": "code",
   "execution_count": 137,
   "metadata": {
    "collapsed": false,
    "deletable": true,
    "editable": true
   },
   "outputs": [
    {
     "name": "stdout",
     "output_type": "stream",
     "text": [
      "['pangolin', 'koala', 'sloth', 'T-Rex']\n"
     ]
    }
   ],
   "source": [
    "#change the cassowary to a koala\n",
    "zoo_animals[1] = \"koala\"\n",
    "print zoo_animals"
   ]
  },
  {
   "cell_type": "markdown",
   "metadata": {
    "deletable": true,
    "editable": true
   },
   "source": [
    "You can add items to a list without replacing any of the existing ones through the **append list operator**. You can also use other functions you use with strings like getting the length. Though for others you need list comprehension. "
   ]
  },
  {
   "cell_type": "code",
   "execution_count": 138,
   "metadata": {
    "collapsed": false,
    "deletable": true,
    "editable": true
   },
   "outputs": [
    {
     "name": "stdout",
     "output_type": "stream",
     "text": [
      "There are 7 items in the suitcase.\n",
      "['tennis balls', 'tennis racquets', 'water bottle', 'extra clothes', 'sunglasses', 'tablet', 'books']\n",
      "['tennis balls', 'tennis racquets', 'water bottle', 'extra clothes', 'sunglasses', 'tablet']\n"
     ]
    }
   ],
   "source": [
    "suitcase = [\"tennis balls\", \"tennis racquets\", \"water bottle\", \"extra clothes\"] \n",
    "\n",
    "suitcase.append(\"sunglasses\")\n",
    "suitcase.append(\"tablet\")\n",
    "suitcase.append(\"books\")\n",
    "\n",
    "suitcase_length = len(suitcase)\n",
    "\n",
    "print \"There are %d items in the suitcase.\" % (suitcase_length)\n",
    "print suitcase\n",
    "\n",
    "#To remove an item, you use remove()\n",
    "suitcase.remove(\"books\")\n",
    "print suitcase"
   ]
  },
  {
   "cell_type": "markdown",
   "metadata": {
    "deletable": true,
    "editable": true
   },
   "source": [
    "What if you wanted to separate the list into multiple parts and use them separately, you can again just use the index. Take notice how the index number after the : is one more than you wanted to include."
   ]
  },
  {
   "cell_type": "code",
   "execution_count": 139,
   "metadata": {
    "collapsed": false,
    "deletable": true,
    "editable": true
   },
   "outputs": [
    {
     "name": "stdout",
     "output_type": "stream",
     "text": [
      "['tennis balls', 'tennis racquets']\n",
      "['water bottle', 'extra clothes', 'sunglasses']\n",
      "['tablet']\n"
     ]
    }
   ],
   "source": [
    "first  = suitcase[0:2] \n",
    "print first\n",
    "\n",
    "middle = suitcase[2:5]\n",
    "print middle \n",
    "\n",
    "last   = suitcase[5:7]\n",
    "print last"
   ]
  },
  {
   "cell_type": "markdown",
   "metadata": {
    "deletable": true,
    "editable": true
   },
   "source": [
    "You can grab every item before or after a certain index with :index_number and index_number: respectively. These operations can also be done on strings (basically a list of letters."
   ]
  },
  {
   "cell_type": "code",
   "execution_count": 140,
   "metadata": {
    "collapsed": false,
    "deletable": true,
    "editable": true
   },
   "outputs": [
    {
     "name": "stdout",
     "output_type": "stream",
     "text": [
      "Tennis\n",
      "Balls\n"
     ]
    }
   ],
   "source": [
    "tennis_ball_string = \"Tennis Balls\"\n",
    "\n",
    "#Grabs every letter/ item before the 6th letter, a space. \n",
    "#Should result in Tennis.\n",
    "tennis = tennis_ball_string[:6]\n",
    "print tennis\n",
    "\n",
    "#Grabs every letter/ item starting from the 7th letter. \n",
    "#Take notice how this time the index number item is included in what's grabbed. \n",
    "#Should result in ball.\n",
    "ball = tennis_ball_string[7:]\n",
    "print ball"
   ]
  },
  {
   "cell_type": "markdown",
   "metadata": {
    "deletable": true,
    "editable": true
   },
   "source": [
    "What if your list is really large and you don't know which index number an item is. You can find it with the **.index operator**. It only finds the first instance instead of all the instances. "
   ]
  },
  {
   "cell_type": "code",
   "execution_count": 141,
   "metadata": {
    "collapsed": false,
    "deletable": true,
    "editable": true
   },
   "outputs": [
    {
     "name": "stdout",
     "output_type": "stream",
     "text": [
      "['tennis balls', 'tennis racquets', 'water bottle', 'extra clothes', 'sunglasses', 'tablet']\n",
      "4\n",
      "2\n"
     ]
    }
   ],
   "source": [
    "print suitcase\n",
    "\n",
    "#Let's find which item is our sunglasses.\n",
    "print suitcase.index(\"sunglasses\")\n",
    "\n",
    "#This also works with strings. Take notice \n",
    "print tennis_ball_string.index(\"n\")"
   ]
  },
  {
   "cell_type": "markdown",
   "metadata": {
    "deletable": true,
    "editable": true
   },
   "source": [
    "We can also insert an item into that index spot, like say we want to get sunblock before we get sunglasses. We do this using the **.insert operator**."
   ]
  },
  {
   "cell_type": "code",
   "execution_count": 142,
   "metadata": {
    "collapsed": false,
    "deletable": true,
    "editable": true
   },
   "outputs": [
    {
     "name": "stdout",
     "output_type": "stream",
     "text": [
      "['tennis balls', 'tennis racquets', 'water bottle', 'extra clothes', 'sunblock', 'sunglasses', 'tablet']\n"
     ]
    }
   ],
   "source": [
    "#Create a variable so we don't have to remember what the index number is. \n",
    "sunglasses_index = suitcase.index(\"sunglasses\")\n",
    "\n",
    "suitcase.insert(sunglasses_index, \"sunblock\")\n",
    "print suitcase"
   ]
  },
  {
   "cell_type": "markdown",
   "metadata": {
    "deletable": true,
    "editable": true
   },
   "source": [
    "You can act on each item in a list using a **for loop**. It's done through the **for** variable **in** list_name."
   ]
  },
  {
   "cell_type": "code",
   "execution_count": 143,
   "metadata": {
    "collapsed": false,
    "deletable": true,
    "editable": true
   },
   "outputs": [
    {
     "name": "stdout",
     "output_type": "stream",
     "text": [
      "TENNIS BALLS\n",
      "TENNIS RACQUETS\n",
      "WATER BOTTLE\n",
      "EXTRA CLOTHES\n",
      "SUNBLOCK\n",
      "SUNGLASSES\n",
      "TABLET\n",
      "2 tennis balls\n",
      "2 tennis racquets\n",
      "2 water bottle\n",
      "2 extra clothes\n",
      "2 sunblock\n",
      "2 sunglasses\n",
      "2 tablet\n"
     ]
    }
   ],
   "source": [
    "#Takes every item in our suitcase, capitalizes all the letters and then print them out. b\n",
    "for items in suitcase:\n",
    "    print items.upper()\n",
    "    \n",
    "#If we wanted to bring 2 of each, we can concatenate two strings.\n",
    "for items in suitcase:\n",
    "    print \"2 \" + items"
   ]
  },
  {
   "cell_type": "markdown",
   "metadata": {
    "deletable": true,
    "editable": true
   },
   "source": [
    "What if we wanted the items sorted in alphabetical format. We use **sort()**."
   ]
  },
  {
   "cell_type": "code",
   "execution_count": 144,
   "metadata": {
    "collapsed": false,
    "deletable": true,
    "editable": true
   },
   "outputs": [
    {
     "name": "stdout",
     "output_type": "stream",
     "text": [
      "['extra clothes', 'sunblock', 'sunglasses', 'tablet', 'tennis balls', 'tennis racquets', 'water bottle']\n"
     ]
    }
   ],
   "source": [
    "suitcase.sort()\n",
    "print suitcase"
   ]
  },
  {
   "cell_type": "markdown",
   "metadata": {
    "deletable": true,
    "editable": true
   },
   "source": [
    "What if we wanted to keep our original list in the same order? We can create a new variable like below. Then use the **append()** to bring our numbers over. We can even modify the numbers as we bring them over using mathematical operators. "
   ]
  },
  {
   "cell_type": "code",
   "execution_count": 145,
   "metadata": {
    "collapsed": false,
    "deletable": true,
    "editable": true
   },
   "outputs": [
    {
     "name": "stdout",
     "output_type": "stream",
     "text": [
      "[1, 4, 9, 16, 25]\n"
     ]
    }
   ],
   "source": [
    "start_list = [5, 3, 1, 2, 4]\n",
    "square_list = []\n",
    "\n",
    "#Square each item in one list before putting them in another list.\n",
    "for number in start_list:\n",
    "    square_list.append(number ** 2)\n",
    "\n",
    "square_list.sort()\n",
    "\n",
    "print square_list"
   ]
  },
  {
   "cell_type": "markdown",
   "metadata": {
    "deletable": true,
    "editable": true
   },
   "source": [
    "## Dictionaries##"
   ]
  },
  {
   "cell_type": "markdown",
   "metadata": {
    "deletable": true,
    "editable": true
   },
   "source": [
    "A **dictionary** is like a list, but with a **value** paired to a **key**. Instead of looking things up by index you look them up in keys. Instead of the square brackets used by lists, you use curly brackets {}. Values are assigned to keys (strings below) with a :. You can also access the value to a key by referring to the key itself."
   ]
  },
  {
   "cell_type": "code",
   "execution_count": 146,
   "metadata": {
    "collapsed": false,
    "deletable": true,
    "editable": true
   },
   "outputs": [
    {
     "name": "stdout",
     "output_type": "stream",
     "text": [
      "2\n",
      "2\n",
      "{'TV': 'Living Room', 'Dishwasher': 'Kitchen', 'Water Heater': 'Garrage'}\n",
      "Kitchen\n"
     ]
    }
   ],
   "source": [
    "tennis_bag = {\"Tennis Racquets\" : 2, \"Tennis Balls\" : 3, \"Water Bottle\" : 2}\n",
    "print tennis_bag[\"Tennis Racquets\"]\n",
    "\n",
    "#You can interchangeably use ' or \" in referencing the keys or in writing strings.\n",
    "print tennis_bag['Tennis Racquets']\n",
    "\n",
    "#Dictionaries can also be empty.\n",
    "empty_dictionary = {}\n",
    "\n",
    "#Dictionaries can also have strings assigned to strings.\n",
    "#Below we have a dictionary of objects commonly found in houses and where to find them.\n",
    "house_appliances = {\"Dishwasher\" : \"Kitchen\", \"TV\" : \"Living Room\", \"Water Heater\" : \"Garage\"}\n",
    "print house_appliances\n",
    "print house_appliances[\"Dishwasher\"]"
   ]
  },
  {
   "cell_type": "markdown",
   "metadata": {
    "deletable": true,
    "editable": true
   },
   "source": [
    "Like lists, dictionaries are also **mutable**. That means they can be changed after creation. Instead of using insert() we use:\n",
    "\n",
    "dict_name[new_key] = new_value"
   ]
  },
  {
   "cell_type": "code",
   "execution_count": 147,
   "metadata": {
    "collapsed": false,
    "deletable": true,
    "editable": true
   },
   "outputs": [
    {
     "name": "stdout",
     "output_type": "stream",
     "text": [
      "{'Tennis Balls': 3, 'Towel': 1, 'Tennis Racquets': 2, 'Water Bottle': 2}\n",
      "{'Tennis Balls': 3, 'Towel': 2, 'Tennis Racquets': 2, 'Water Bottle': 2}\n",
      "{'Tennis Balls': 3, 'Tennis Racquets': 2, 'Water Bottle': 2}\n",
      "There are 3 different kind of items in our tennis bag\n"
     ]
    }
   ],
   "source": [
    "#Add in a towel, cause we're going to be working up a sweat.\n",
    "tennis_bag[\"Towel\"] = 1\n",
    "print tennis_bag\n",
    "\n",
    "#Say you want to bring an extra towel because it's going to be really hot.\n",
    "tennis_bag[\"Towel\"] = 2\n",
    "print tennis_bag\n",
    "\n",
    "#For some reason though, you are feeling very lazy. So you won't be working up a sweat at all, let's just not bring a towel.\n",
    "#We can delete a key-value pair from the dictionary like so.\n",
    "del tennis_bag[\"Towel\"]\n",
    "print tennis_bag\n",
    "\n",
    "#We can also do operations on the dictionaries, like below.\n",
    "print \"There are \" + str(len(tennis_bag)) + \" different kind of items in our tennis bag\""
   ]
  },
  {
   "cell_type": "markdown",
   "metadata": {
    "deletable": true,
    "editable": true
   },
   "source": [
    "Dictionaries can be very complex, with each key holding a different kind of value: integer, float, string and even lists! To make it look nicer we can even have multi-line list, you just have to put {} at the beginning and end respectively, and make sure the dictionary itself is properly indented."
   ]
  },
  {
   "cell_type": "code",
   "execution_count": 148,
   "metadata": {
    "collapsed": false,
    "deletable": true,
    "editable": true
   },
   "outputs": [
    {
     "name": "stdout",
     "output_type": "stream",
     "text": [
      "['bedroll', 'bread loaf', 'xylophone']\n",
      "550\n",
      "[500, 200, 300, 100, 400]\n",
      "[510, 210, 310, 110, 410]\n"
     ]
    }
   ],
   "source": [
    "inventory = {\n",
    "    'gold' : 500,\n",
    "    'pouch' : ['flint', 'twine', 'gemstone'], \n",
    "    'backpack' : ['xylophone','dagger', 'bedroll','bread loaf']\n",
    "}\n",
    "\n",
    "# Adding a key 'burlap bag' and assigning a list to it.\n",
    "inventory['burlap bag'] = ['apple', 'small ruby', 'three-toed sloth']\n",
    "\n",
    "# Sorting the list found under the key 'pouch'.\n",
    "inventory['pouch'].sort() \n",
    "\n",
    "# Adding a new key called pocket and creating a list of items that go in it.\n",
    "inventory['pocket'] = ['seashell', 'strange berry', 'lint']\n",
    "\n",
    "# Sorting the backpack and removing the dagger, we won't need to stab anything.\n",
    "#Take notice how we can use string functions like remove() on dictionary keys.\n",
    "inventory['backpack'].sort()\n",
    "inventory['backpack'].remove('dagger')\n",
    "print inventory['backpack']\n",
    "\n",
    "# Yay we got more gold, let's add it.\n",
    "# We can do it the simple way, like so below.\n",
    "inventory['gold'] = inventory['gold'] + 50\n",
    "print inventory['gold']\n",
    "\n",
    "# Or if we are carrying gold for more than one person, we can use a for loop.\n",
    "# We found a companion for who we're carrying the gold.\n",
    "inventory['gold'] = [500, 200, 300, 100, 400] \n",
    "print inventory['gold']\n",
    "for money in range(len(inventory['gold'])):\n",
    "    # To get the for loop to act on all values in the list, we give it a range with the length of our list.\n",
    "    inventory['gold'][money] = inventory['gold'][money] + 10 \n",
    "    # We refer to each value in the list by their index.\n",
    "    # Sadly we had to split our 50 gold into 10 gold for 5 people.\n",
    "print inventory['gold']"
   ]
  },
  {
   "cell_type": "markdown",
   "metadata": {
    "deletable": true,
    "editable": true
   },
   "source": [
    "The for loop above is correct, but my initial attempt had errors like so. By not using the correct syntax, it converted our list into one single integer assigned to a non-list variable gold now. Had my friend who majored in programming (LP) help to fix it to above. Goes to show that finding mentors, especially ones who are friends is very helpful. "
   ]
  },
  {
   "cell_type": "code",
   "execution_count": 149,
   "metadata": {
    "collapsed": false,
    "deletable": true,
    "editable": true
   },
   "outputs": [
    {
     "name": "stdout",
     "output_type": "stream",
     "text": [
      "[500, 200]\n",
      "225\n"
     ]
    }
   ],
   "source": [
    "inventory['gold'] = [500, 200] \n",
    "print inventory['gold']\n",
    "for money in inventory['gold']: \n",
    "    inventory['gold'] = money + 25 # Sadly we had to split our 50 gold into 10 gold for 5 people.\n",
    "print inventory['gold']"
   ]
  }
 ],
 "metadata": {
  "kernelspec": {
   "display_name": "Python 2",
   "language": "python",
   "name": "python2"
  },
  "language_info": {
   "codemirror_mode": {
    "name": "ipython",
    "version": 2
   },
   "file_extension": ".py",
   "mimetype": "text/x-python",
   "name": "python",
   "nbconvert_exporter": "python",
   "pygments_lexer": "ipython2",
   "version": "2.7.13"
  }
 },
 "nbformat": 4,
 "nbformat_minor": 2
}
