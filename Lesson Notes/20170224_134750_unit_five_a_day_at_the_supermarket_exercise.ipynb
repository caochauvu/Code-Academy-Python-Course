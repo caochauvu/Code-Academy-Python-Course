{
 "cells": [
  {
   "cell_type": "markdown",
   "metadata": {},
   "source": [
    "# Exercise #"
   ]
  },
  {
   "cell_type": "markdown",
   "metadata": {},
   "source": [
    "## A Review of Looping##\n",
    "\n",
    "Using **for**, we can iterate over each item or key in a list or dictionary."
   ]
  },
  {
   "cell_type": "code",
   "execution_count": 98,
   "metadata": {
    "collapsed": false
   },
   "outputs": [
    {
     "name": "stdout",
     "output_type": "stream",
     "text": [
      "Adam\n",
      "Alex\n",
      "Mariah\n",
      "Martine\n",
      "Columbus\n",
      " \n",
      "A star of a popular children's cartoon show.\n",
      "Goes on the floor.\n",
      "A small amount.\n",
      "The sound a goat makes.\n"
     ]
    }
   ],
   "source": [
    "names = [\"Adam\",\"Alex\",\"Mariah\",\"Martine\",\"Columbus\"]\n",
    "for n in names:\n",
    "    print n\n",
    "    \n",
    "webster = {\n",
    "    \"Aardvark\" : \"A star of a popular children's cartoon show.\",\n",
    "    \"Baa\" : \"The sound a goat makes.\",\n",
    "    \"Carpet\": \"Goes on the floor.\",\n",
    "    \"Dab\": \"A small amount.\"\n",
    "}\n",
    "\n",
    "#Done to separate outputs.\n",
    "print \" \"\n",
    "\n",
    "for key in webster:\n",
    "    print webster[key]"
   ]
  },
  {
   "cell_type": "markdown",
   "metadata": {},
   "source": [
    "Dictionaries are **unordered**, so the output might not come onut in the same order as the input.\n",
    "\n",
    "Depending on the items in the list, we may want to take different actions. Like how we want only the even items from the list below."
   ]
  },
  {
   "cell_type": "code",
   "execution_count": 99,
   "metadata": {
    "collapsed": false
   },
   "outputs": [
    {
     "name": "stdout",
     "output_type": "stream",
     "text": [
      "0\n",
      "2\n",
      "4\n",
      "6\n",
      "8\n",
      "10\n",
      "12\n",
      " \n",
      "The even numbers are [0, 2, 4, 6, 8, 10, 12]\n"
     ]
    }
   ],
   "source": [
    "numbers = [0, 1, 2, 3, 4, 5, 6, 7, 8, 9, 10, 11, 12, 13]\n",
    "for n in numbers:\n",
    "    # We use % here to check for numbers that are even as even numbers divided by 2 should have no leftovers.\n",
    "    if n % 2 == 0:\n",
    "        print n\n",
    "        \n",
    "# What if we wanted to make a new list with only even numbers from our previous list?\n",
    "even_numbers = []\n",
    "for n in numbers:\n",
    "    if n % 2 == 0:\n",
    "        # We use append to insert any numbers that fulfill our if condition into our empty list.\n",
    "        even_numbers.append(n)\n",
    "\n",
    "print \" \"  \n",
    "        \n",
    "print \"The even numbers are \" + str(even_numbers)"
   ]
  },
  {
   "cell_type": "markdown",
   "metadata": {},
   "source": [
    "Let's say we turn the answers from yes/no survey into a list and we wanted to figure out the percentage of yes and no answer. We could do it through using for loops and simple mathematical operators."
   ]
  },
  {
   "cell_type": "code",
   "execution_count": 100,
   "metadata": {
    "collapsed": false
   },
   "outputs": [
    {
     "name": "stdout",
     "output_type": "stream",
     "text": [
      "The number of yes is 7\n",
      "\n",
      "70.0 of the answer were yes\n"
     ]
    }
   ],
   "source": [
    "example_survey_answers = [\"yes\", \"yes\", \"no\", \"yes\", \"yes\", \"yes\", \"no\", \"yes\", \"yes\", \"no\"]\n",
    "\n",
    "# Here we count the yes.\n",
    "def count_yes(survey_answers):\n",
    "    # We set a new variable so that we could \n",
    "    total = 0\n",
    "    for a in survey_answers:\n",
    "        if a == 'yes':\n",
    "            total = total + 1\n",
    "    return total\n",
    "\n",
    "number_of_yes = count_yes(example_survey_answers)\n",
    "print \"The number of yes is \" + str(number_of_yes)\n",
    "\n",
    "# To get a percentage of yes, we can use mathematical operators.\n",
    "def percentage_of_yes(survey_answer):\n",
    "    # First we divide the number of yes by total response, which we can get by using the length function.\n",
    "    # We convert the total response number to a float, so python doesn't always return a 0.\n",
    "    proportion_of_yes = count_yes(survey_answer) / float(len(survey_answer))\n",
    "    return proportion_of_yes * 100\n",
    "\n",
    "print \"\"\n",
    "\n",
    "print str(percentage_of_yes(example_survey_answers)) + \" of the answer were yes\""
   ]
  },
  {
   "cell_type": "markdown",
   "metadata": {},
   "source": [
    "## Owning a Store ##"
   ]
  },
  {
   "cell_type": "markdown",
   "metadata": {},
   "source": [
    "First we got to define the prices and how many of each we have in our stock."
   ]
  },
  {
   "cell_type": "code",
   "execution_count": 101,
   "metadata": {
    "collapsed": false
   },
   "outputs": [],
   "source": [
    "prices = {\n",
    "    \"banana\" : 4, \n",
    "    \"apple\" : 2,\n",
    "    \"orange\" : 1.5, \n",
    "    \"pear\": 3\n",
    "}\n",
    "\n",
    "stock = {\n",
    "    \"banana\" : 6, \n",
    "    \"apple\" : 0, \n",
    "    \"orange\" : 32,\n",
    "    \"pear\" : 15,\n",
    "}"
   ]
  },
  {
   "cell_type": "markdown",
   "metadata": {},
   "source": [
    "Because our two dictionaries have the same key, we can get both the price and stock info for the same item."
   ]
  },
  {
   "cell_type": "code",
   "execution_count": 102,
   "metadata": {
    "collapsed": false
   },
   "outputs": [
    {
     "name": "stdout",
     "output_type": "stream",
     "text": [
      "orange\n",
      "Prices: 1.5\n",
      "Stock: 32\n",
      "\n",
      "pear\n",
      "Prices: 3\n",
      "Stock: 15\n",
      "\n",
      "banana\n",
      "Prices: 4\n",
      "Stock: 6\n",
      "\n",
      "apple\n",
      "Prices: 2\n",
      "Stock: 0\n",
      "\n"
     ]
    }
   ],
   "source": [
    "for key in prices:\n",
    "    print key\n",
    "    print \"Prices: %s\" % prices[key]\n",
    "    print \"Stock: %s\" % stock[key]\n",
    "    print \"\""
   ]
  },
  {
   "cell_type": "markdown",
   "metadata": {},
   "source": [
    "Let's say we're tired of the grocery business and want to sell our entire stock all at once, how much could we get?"
   ]
  },
  {
   "cell_type": "code",
   "execution_count": 103,
   "metadata": {
    "collapsed": false
   },
   "outputs": [
    {
     "name": "stdout",
     "output_type": "stream",
     "text": [
      "orange = 48.0\n",
      "pear = 45\n",
      "banana = 24\n",
      "apple = 0\n",
      "total = 117.0\n"
     ]
    }
   ],
   "source": [
    "# First, we haven't sold anything so our total is 0.\n",
    "total = 0\n",
    "\n",
    "# Now let's sell everything.\n",
    "for key in prices:\n",
    "    print \"%s\" % key +  \" = \" + str(prices[key] * stock[key])\n",
    "    total = total + (prices [key] *stock[key])\n",
    "    \n",
    "print \"total = \" +str(total)"
   ]
  },
  {
   "cell_type": "markdown",
   "metadata": {},
   "source": [
    "## Shopping Trip! ##"
   ]
  },
  {
   "cell_type": "markdown",
   "metadata": {},
   "source": [
    "Since you don't own a grocery store anymore, you have to go shopping for your own. Let's make a grocery list."
   ]
  },
  {
   "cell_type": "code",
   "execution_count": 104,
   "metadata": {
    "collapsed": true
   },
   "outputs": [],
   "source": [
    "groceries = [\"banana\", \"orange\", \"apple\"]"
   ]
  },
  {
   "cell_type": "markdown",
   "metadata": {},
   "source": [
    "Now let's go grocery shopping. We're going to the same store that we just sold."
   ]
  },
  {
   "cell_type": "code",
   "execution_count": 105,
   "metadata": {
    "collapsed": false
   },
   "outputs": [
    {
     "name": "stdout",
     "output_type": "stream",
     "text": [
      "7.5\n"
     ]
    }
   ],
   "source": [
    "def compute_bill(grocery_list):\n",
    "    total = 0\n",
    "    for item in grocery_list:\n",
    "        # We use += syntax here to tell python to set new total to the sum of old total + input.\n",
    "        total += prices[item]\n",
    "    return total\n",
    "\n",
    "print compute_bill(groceries)"
   ]
  },
  {
   "cell_type": "markdown",
   "metadata": {},
   "source": [
    "But wait, the store doesn't have any apple in stocks. So we need our function to account for whether an item is in stock and not charge if it isn't. We'll have to redefine our function."
   ]
  },
  {
   "cell_type": "code",
   "execution_count": 106,
   "metadata": {
    "collapsed": false
   },
   "outputs": [
    {
     "name": "stdout",
     "output_type": "stream",
     "text": [
      "{'orange': 32, 'pear': 15, 'banana': 6, 'apple': 0}\n",
      "\n",
      "5.5\n",
      "\n",
      "{'orange': 31, 'pear': 15, 'banana': 5, 'apple': 0}\n"
     ]
    }
   ],
   "source": [
    "def compute_bill(grocery_list):\n",
    "    total = 0\n",
    "    for item in grocery_list:\n",
    "        # To check if an item is in stock, we use an if statement.  \n",
    "        if stock[item] > 0:\n",
    "            total += prices[item]\n",
    "            # We then need to subtract one from the stock.\n",
    "            stock[item] -= 1\n",
    "    return total\n",
    "\n",
    "print stock\n",
    "\n",
    "print \"\"\n",
    "\n",
    "print compute_bill(groceries)\n",
    "\n",
    "print \"\"\n",
    "\n",
    "print stock"
   ]
  },
  {
   "cell_type": "markdown",
   "metadata": {},
   "source": [
    "We can see that the stock of orange and banana both decreased by one while the stock for apple remained unchanged and we now have the correct bill not involving the apple price. "
   ]
  }
 ],
 "metadata": {
  "kernelspec": {
   "display_name": "Python 2",
   "language": "python",
   "name": "python2"
  },
  "language_info": {
   "codemirror_mode": {
    "name": "ipython",
    "version": 2
   },
   "file_extension": ".py",
   "mimetype": "text/x-python",
   "name": "python",
   "nbconvert_exporter": "python",
   "pygments_lexer": "ipython2",
   "version": "2.7.13"
  }
 },
 "nbformat": 4,
 "nbformat_minor": 2
}
