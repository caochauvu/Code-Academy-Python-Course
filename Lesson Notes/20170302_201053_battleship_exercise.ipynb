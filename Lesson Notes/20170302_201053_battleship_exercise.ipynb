{
 "cells": [
  {
   "cell_type": "markdown",
   "metadata": {
    "deletable": true,
    "editable": true
   },
   "source": [
    "# Exercise #\n",
    "\n",
    "## Don't Sink My Battleship! ##\n",
    "\n",
    "We'll create a battleship game with a 5 x 5 grid and only 10 guesses to sink a ship. First, we'll create the board."
   ]
  },
  {
   "cell_type": "code",
   "execution_count": null,
   "metadata": {
    "collapsed": false,
    "deletable": true,
    "editable": true
   },
   "outputs": [],
   "source": [
    "# We'll make the board an empty list. \n",
    "board = []\n",
    "\n",
    "# We'll use a for loop to append 5 rows of O (capital o) into our list to represent the ocean.\n",
    "\n",
    "for i in range(5): \n",
    "    row = [\"O\"] * 5\n",
    "    board.append(row)\n",
    "\n",
    "# Then we'll print the board to see it.\n",
    "print board"
   ]
  },
  {
   "cell_type": "markdown",
   "metadata": {
    "deletable": true,
    "editable": true
   },
   "source": [
    "The rows are not neatly lined up though, so it'll be harder to play. We can fix that with a custom print statement. "
   ]
  },
  {
   "cell_type": "code",
   "execution_count": null,
   "metadata": {
    "collapsed": false,
    "deletable": true,
    "editable": true
   },
   "outputs": [],
   "source": [
    "def print_board(board):\n",
    "    for row in board:\n",
    "        print row\n",
    "\n",
    "print_board(board)"
   ]
  },
  {
   "cell_type": "markdown",
   "metadata": {
    "deletable": true,
    "editable": true
   },
   "source": [
    "There, now they're all nicely lined up. Since our board is stored as a list though, we still see the commas. Let's get rid of those. We do this by using the **join** function in our print statement. "
   ]
  },
  {
   "cell_type": "code",
   "execution_count": null,
   "metadata": {
    "collapsed": false,
    "deletable": true,
    "editable": true
   },
   "outputs": [],
   "source": [
    "def print_board(board):\n",
    "    for row in board:\n",
    "        print \" \".join(row)    \n",
    "\n",
    "print_board(board)"
   ]
  },
  {
   "cell_type": "markdown",
   "metadata": {
    "deletable": true,
    "editable": true
   },
   "source": [
    "To place our ship in a random location on our board. We can do this using the randint(low,high) function from the random module. The randint module will generate a random number that fits into the range of low to high. "
   ]
  },
  {
   "cell_type": "code",
   "execution_count": null,
   "metadata": {
    "collapsed": false,
    "deletable": true,
    "editable": true
   },
   "outputs": [],
   "source": [
    "from random import randint\n",
    "\n",
    "# We'll create a random row and column that each takes board as input.\n",
    "\n",
    "def random_row(board): \n",
    "    # We'll subtract 1 from the length because our length will not start the count from 0 like an index.\n",
    "    # So we need to subtract one since our last index number will be one lower than actual length. \n",
    "    return randint(0, len(board) - 1)\n",
    "\n",
    "def random_col(board):\n",
    "    return randint(0, len(board) - 1)\n",
    "                   \n",
    "print random_row(board)\n",
    "print random_col(board)"
   ]
  },
  {
   "cell_type": "markdown",
   "metadata": {
    "deletable": true,
    "editable": true
   },
   "source": [
    "We can store the location of our ship into a variable."
   ]
  },
  {
   "cell_type": "code",
   "execution_count": 26,
   "metadata": {
    "collapsed": false,
    "deletable": true,
    "editable": true
   },
   "outputs": [
    {
     "name": "stdout",
     "output_type": "stream",
     "text": [
      "[2, 1]\n"
     ]
    }
   ],
   "source": [
    "ship_row = random_row(board)\n",
    "ship_col = random_col(board)\n",
    "\n",
    "ship_coordinates = [ship_row + 1, ship_col+ 1]\n",
    "print ship_coordinates"
   ]
  },
  {
   "cell_type": "markdown",
   "metadata": {
    "deletable": true,
    "editable": true
   },
   "source": [
    "We now allow the opponent to guess where our ship location is. "
   ]
  },
  {
   "cell_type": "code",
   "execution_count": null,
   "metadata": {
    "collapsed": false,
    "deletable": true,
    "editable": true
   },
   "outputs": [],
   "source": [
    "# We allow them to guess by asking what column and row they think it is in.\n",
    "# We convert it to an integer to make it easier to process.\n",
    "guess_row = int(raw_input(\"Guess Row: \"))\n",
    "guess_col = int(raw_input(\"Guess Column: \"))"
   ]
  },
  {
   "cell_type": "markdown",
   "metadata": {
    "deletable": true,
    "editable": true
   },
   "source": [
    "## Hit or Miss? ##\n",
    "\n",
    "If they hit our battleship location, we need to let them know that they hit. Otherwise, if they miss we need to let them know that too. "
   ]
  },
  {
   "cell_type": "code",
   "execution_count": 28,
   "metadata": {
    "collapsed": false,
    "deletable": true,
    "editable": true
   },
   "outputs": [
    {
     "name": "stdout",
     "output_type": "stream",
     "text": [
      "[2, 1]\n",
      "Guess Row: 2\n",
      "Guess Column: 1\n",
      "Congratulations! You sank my battleship!\n"
     ]
    }
   ],
   "source": [
    "# We'll cheat here and give where the ship is so we can test if our code will work.\n",
    "print ship_coordinates\n",
    "\n",
    "# We'll have the code ask for an input again, we already know from above where our ship is located.\n",
    "guess_row = int(raw_input(\"Guess Row: \"))\n",
    "guess_col = int(raw_input(\"Guess Column: \"))\n",
    "\n",
    "# If the guess match, we can tell them that they won. Otherwise, we tell them they miss.\n",
    "# Since the opponent will be counting from one instead of zero, we'll need to add one.\n",
    "# This is the same logic as setting the ship_coordinates variable earlier.\n",
    "if guess_row == ship_row + 1 and guess_col == ship_col + 1:\n",
    "    print \"Congratulations! You sank my battleship!\"\n",
    "else:\n",
    "    print \"You missed my battleship!\""
   ]
  },
  {
   "cell_type": "markdown",
   "metadata": {
    "deletable": true,
    "editable": true
   },
   "source": [
    "If they miss, the board should reflect that they already guess there before. We can do that by making our else statement also change the board."
   ]
  },
  {
   "cell_type": "code",
   "execution_count": 29,
   "metadata": {
    "collapsed": false,
    "deletable": true,
    "editable": true
   },
   "outputs": [
    {
     "name": "stdout",
     "output_type": "stream",
     "text": [
      "Guess Row: 2\n",
      "Guess Column: 3\n",
      "You missed my battleship!\n",
      "O O O O O\n",
      "O O X O O\n",
      "O O O O O\n",
      "O O O O O\n",
      "O O O O O\n"
     ]
    }
   ],
   "source": [
    "guess_row = int(raw_input(\"Guess Row: \"))\n",
    "guess_col = int(raw_input(\"Guess Column: \"))\n",
    "\n",
    "if guess_row == ship_row + 1 and guess_col == ship_col + 1:\n",
    "    print \"Congratulations! You sank my battleship!\"\n",
    "else:\n",
    "    print \"You missed my battleship!\"\n",
    "    # To specify a single element in a two dimensional list we use list_name[i][j]\n",
    "    # Where i is the element in the outer list and j the element in the inner list\n",
    "    # We'll need to subtract one because real people also start counting from one instead of zero.\n",
    "    board[guess_row - 1][guess_col - 1] = \"X\"\n",
    "    print_board(board)"
   ]
  },
  {
   "cell_type": "markdown",
   "metadata": {
    "deletable": true,
    "editable": true
   },
   "source": [
    "Sometimes though people may be confused and make a guess that's not even on the board, let's make a contingency for that. "
   ]
  },
  {
   "cell_type": "code",
   "execution_count": 31,
   "metadata": {
    "collapsed": false,
    "deletable": true,
    "editable": true
   },
   "outputs": [
    {
     "name": "stdout",
     "output_type": "stream",
     "text": [
      "Guess Row: 2\n",
      "Guess Column: 6\n",
      "Oops, that's not even in the ocean.\n"
     ]
    }
   ],
   "source": [
    "# We'll ask for an input again, let's purposefully put in bad ones for both answers\n",
    "guess_row = int(raw_input(\"Guess Row: \"))\n",
    "guess_col = int(raw_input(\"Guess Column: \"))\n",
    "\n",
    "if guess_row == ship_row + 1 and guess_col == ship_col + 1:\n",
    "    print \"Congratulations! You sank my battleship!\"\n",
    "else:\n",
    "    # To check if our number is in the board, we create a sequence of or statements.\n",
    "    # If any of these statements are true, the if statement will go into action.\n",
    "    # All of these booleans check for an input that doesn't exist on the board. \n",
    "    if guess_row <= 0 or guess_row > len(board) or guess_col <= 0 or guess_col> len(board): \n",
    "        print \"Oops, that's not even in the ocean.\"\n",
    "    else:\n",
    "        print \"You missed my battleship!\"\n",
    "        board[guess_row - 1][guess_col - 1] = \"X\"\n",
    "        print_board(board)"
   ]
  },
  {
   "cell_type": "markdown",
   "metadata": {
    "deletable": true,
    "editable": true
   },
   "source": [
    "People are sometimes forgetful, even if we print the board out for them to see where they guess, they might still give an answer they already gave. We need to check for that scenario too."
   ]
  },
  {
   "cell_type": "code",
   "execution_count": 32,
   "metadata": {
    "collapsed": false,
    "deletable": true,
    "editable": true
   },
   "outputs": [
    {
     "name": "stdout",
     "output_type": "stream",
     "text": [
      "Guess Row: 2\n",
      "Guess Column: 3\n",
      "You guessed that one already.\n"
     ]
    }
   ],
   "source": [
    "# We'll ask for an input again, let's purposefully give the same one we already gave above.\n",
    "guess_row = int(raw_input(\"Guess Row: \"))\n",
    "guess_col = int(raw_input(\"Guess Column: \"))\n",
    "\n",
    "if guess_row == ship_row + 1 and guess_col == ship_col + 1:\n",
    "    print \"Congratulations! You sank my battleship!\"\n",
    "else:\n",
    "    if guess_row <= 0 or guess_row > len(board) or guess_col <= 0 or guess_col > len(board): \n",
    "        print \"Oops, that's not even in the ocean.\"\n",
    "    # We only need to check this if the answer they gave exist on the board, so we can use an elif statement.\n",
    "    # We can just use what we came up earlier to set the element to X and check if that element is equal to X.\n",
    "    elif board[guess_row - 1][guess_col - 1] == \"X\":\n",
    "        print \"You guessed that one already.\"\n",
    "    else:\n",
    "        print \"You missed my battleship!\"\n",
    "        board[guess_row - 1][guess_col - 1] = \"X\"\n",
    "        print_board(board)"
   ]
  },
  {
   "cell_type": "markdown",
   "metadata": {
    "deletable": true,
    "editable": true
   },
   "source": [
    "## You Sunk My Battleship! ##\n",
    "\n",
    "Alright now that we've got the contingency cases covered. We need to allow our opponent to have multiple guesses. We can do that using a for loop. Let's give the opponent four turns."
   ]
  },
  {
   "cell_type": "code",
   "execution_count": null,
   "metadata": {
    "collapsed": false,
    "deletable": true,
    "editable": true
   },
   "outputs": [],
   "source": [
    "# We'll reset our board and the location of the ship.\n",
    "\n",
    "board = []\n",
    "for i in range(5): \n",
    "    row = [\"O\"] * 5\n",
    "    board.append(row)\n",
    "\n",
    "ship_row = random_row(board)\n",
    "ship_col = random_col(board)\n",
    "    \n",
    "\n",
    "# Now we can play the game    \n",
    "for turn in range(4):\n",
    "    print \"Turn \" + str(turn + 1)\n",
    "    guess_row = int(raw_input(\"Guess Row: \"))\n",
    "    guess_col = int(raw_input(\"Guess Column: \"))\n",
    "    if guess_row == ship_row + 1 and guess_col == ship_col + 1:\n",
    "        print \"Congratulations! You sank my battleship!\"\n",
    "    else:\n",
    "        if guess_row <= 0 or guess_row > len(board) or guess_col <= 0 or guess_col > len(board): \n",
    "            print \"Oops, that's not even in the ocean.\"\n",
    "        # We only need to check this if the answer they gave exist on the board, so we can use an elif statement.\n",
    "        # We can just use what we came up earlier to set the element to X and check if that element is equal to X.\n",
    "        elif board[guess_row - 1][guess_col - 1] == \"X\":\n",
    "            print \"You guessed that one already.\"\n",
    "        else:\n",
    "            print \"You missed my battleship!\"\n",
    "            board[guess_row - 1][guess_col - 1] = \"X\"\n",
    "            print_board(board)\n",
    "\n",
    "# For the unlucky ones, we'll print the location of the ship.\n",
    "print \"The ship is at \" + str(ship_coordinates)"
   ]
  },
  {
   "cell_type": "markdown",
   "metadata": {
    "deletable": true,
    "editable": true
   },
   "source": [
    "With any luck, you might have found the ship, if not you can at least know where the ship was now. We do need to let people know the game is over though, we can do that by adding an if statement that checks if the turn was the last one."
   ]
  },
  {
   "cell_type": "code",
   "execution_count": null,
   "metadata": {
    "collapsed": false,
    "deletable": true,
    "editable": true
   },
   "outputs": [],
   "source": [
    "# We'll reset our board and the location of the ship.\n",
    "\n",
    "board = []\n",
    "for i in range(5): \n",
    "    row = [\"O\"] * 5\n",
    "    board.append(row)\n",
    "\n",
    "ship_row = random_row(board)\n",
    "ship_col = random_col(board)\n",
    "    \n",
    "\n",
    "# Now we can play the game    \n",
    "for turn in range(4):\n",
    "    print \"Turn \" + str(turn + 1)\n",
    "    guess_row = int(raw_input(\"Guess Row: \"))\n",
    "    guess_col = int(raw_input(\"Guess Column: \"))\n",
    "    if guess_row == ship_row + 1 and guess_col == ship_col + 1:\n",
    "        print \"Congratulations! You sank my battleship!\"\n",
    "    else:\n",
    "        if guess_row <= 0 or guess_row > len(board) or guess_col <= 0 or guess_col > len(board): \n",
    "            print \"Oops, that's not even in the ocean.\"\n",
    "        # We only need to check this if the answer they gave exist on the board, so we can use an elif statement.\n",
    "        # We can just use what we came up earlier to set the element to X and check if that element is equal to X.\n",
    "        elif board[guess_row - 1][guess_col - 1] == \"X\":\n",
    "            print \"You guessed that one already.\"\n",
    "        else:\n",
    "            # We set it at 3 because 3 in our turn counter is equal to the fourth turn. This is due to again counting from 0.\n",
    "            if turn == 3:\n",
    "                print \"Game Over\"\n",
    "            else:\n",
    "                print \"You missed my battleship!\"\n",
    "                board[guess_row - 1][guess_col - 1] = \"X\"\n",
    "                print_board(board)\n",
    "\n",
    "# For the unlucky ones, we'll print the location of the ship.\n",
    "print \"The ship is at \" + str(ship_coordinates)"
   ]
  },
  {
   "cell_type": "markdown",
   "metadata": {
    "deletable": true,
    "editable": true
   },
   "source": [
    "One last thing we need to fix. If the player guesses correctly the location of the ship, then we can stop the game and not prompt the user for more input. We can use this by stopping the for loop with the **break** command."
   ]
  },
  {
   "cell_type": "code",
   "execution_count": 25,
   "metadata": {
    "collapsed": false,
    "deletable": true,
    "editable": true
   },
   "outputs": [
    {
     "name": "stdout",
     "output_type": "stream",
     "text": [
      "The ship is at [1, 4]\n",
      "Turn 1\n",
      "Guess Row: 1\n",
      "Guess Column: 4\n",
      "Congratulations! You sank my battleship!\n"
     ]
    }
   ],
   "source": [
    "# We'll reset our board and the location of the ship.\n",
    "\n",
    "board = []\n",
    "for i in range(5): \n",
    "    row = [\"O\"] * 5\n",
    "    board.append(row)\n",
    "\n",
    "ship_row = random_row(board)\n",
    "ship_col = random_col(board)\n",
    "\n",
    "# We'll have it print to cheat a little so we can test that our break statement works.\n",
    "ship_coordinates = [ship_row + 1, ship_col + 1]\n",
    "print \"The ship is at \" + str(ship_coordinates)\n",
    "\n",
    "# Now we can play the game    \n",
    "for turn in range(4):\n",
    "    print \"Turn \" + str(turn + 1)\n",
    "    guess_row = int(raw_input(\"Guess Row: \"))\n",
    "    guess_col = int(raw_input(\"Guess Column: \"))\n",
    "    if guess_row == ship_row + 1 and guess_col == ship_col + 1:\n",
    "        print \"Congratulations! You sank my battleship!\"\n",
    "        break\n",
    "    else:\n",
    "        if guess_row <= 0 or guess_row > len(board) or guess_col <= 0 or guess_col > len(board): \n",
    "            print \"Oops, that's not even in the ocean.\"\n",
    "        # We only need to check this if the answer they gave exist on the board, so we can use an elif statement.\n",
    "        # We can just use what we came up earlier to set the element to X and check if that element is equal to X.\n",
    "        elif board[guess_row - 1][guess_col - 1] == \"X\":\n",
    "            print \"You guessed that one already.\"\n",
    "        else:\n",
    "            # We set it at 3 because 3 in our turn counter is equal to the fourth turn. This is due to again counting from 0.\n",
    "            if turn == 3:\n",
    "                print \"Game Over\"\n",
    "            else:\n",
    "                print \"You missed my battleship!\"\n",
    "                board[guess_row - 1][guess_col - 1] = \"X\"\n",
    "                print_board(board)"
   ]
  }
 ],
 "metadata": {
  "kernelspec": {
   "display_name": "Python 2",
   "language": "python",
   "name": "python2"
  },
  "language_info": {
   "codemirror_mode": {
    "name": "ipython",
    "version": 2
   },
   "file_extension": ".py",
   "mimetype": "text/x-python",
   "name": "python",
   "nbconvert_exporter": "python",
   "pygments_lexer": "ipython2",
   "version": "2.7.13"
  }
 },
 "nbformat": 4,
 "nbformat_minor": 2
}
